{
  "nbformat": 4,
  "nbformat_minor": 0,
  "metadata": {
    "colab": {
      "provenance": [],
      "authorship_tag": "ABX9TyP0PhTz8ak37PfRYoVcXie+",
      "include_colab_link": true
    },
    "kernelspec": {
      "name": "python3",
      "display_name": "Python 3"
    },
    "language_info": {
      "name": "python"
    }
  },
  "cells": [
    {
      "cell_type": "markdown",
      "metadata": {
        "id": "view-in-github",
        "colab_type": "text"
      },
      "source": [
        "<a href=\"https://colab.research.google.com/github/DhawalV1/Algorithmic_Trading_and_Quant_Strategies/blob/main/QOSF_task.ipynb\" target=\"_parent\"><img src=\"https://colab.research.google.com/assets/colab-badge.svg\" alt=\"Open In Colab\"/></a>"
      ]
    },
    {
      "cell_type": "markdown",
      "source": [],
      "metadata": {
        "id": "eLm7kAeRzjCE"
      }
    },
    {
      "cell_type": "code",
      "source": [
        "# prompt: write kronecker product for any number of matrix\n",
        "\n",
        "import numpy as np\n",
        "\n",
        "def kron(*matrices):\n",
        "  \"\"\"Computes the Kronecker product of multiple matrices.\n",
        "\n",
        "  Args:\n",
        "    *matrices: A sequence of NumPy arrays representing matrices.\n",
        "\n",
        "  Returns:\n",
        "    The Kronecker product of the input matrices.\n",
        "  \"\"\"\n",
        "  result = np.array(1)  # Initialize with a scalar 1\n",
        "  for matrix in matrices:\n",
        "    result = np.kron(result, matrix)\n",
        "  return result\n",
        "\n",
        "# Example usage:\n",
        "# matrix1 = np.array([[1, 2], [3, 4]])\n",
        "# matrix2 = np.array([[5, 6], [7, 8]])\n",
        "# matrix3 = np.array([[9, 10], [11, 12]])\n",
        "# kronecker_prod = kronecker_product(matrix1, matrix2, matrix3)\n",
        "# print(kronecker_prod)"
      ],
      "metadata": {
        "id": "QeDsy3Jr0Ea0"
      },
      "execution_count": 7,
      "outputs": []
    },
    {
      "cell_type": "code",
      "source": [
        "def Hadamard():\n",
        "    return np.array([[1,1],[1,-1]])/np.sqrt(2)\n",
        "\n",
        "def identity():\n",
        "    return np.array([[1,0],[0,1]])\n",
        "\n",
        "def rz(theta):\n",
        "    return np.array([[np.exp(theta*1j),0],[0,np.exp(-theta*1j)]])\n",
        "\n",
        "zero = np.array([1,0])\n",
        "one = np.array([0,1])\n",
        "\n",
        "state = kron(zero,zero,zero)"
      ],
      "metadata": {
        "id": "zC-z-6jB3fK2"
      },
      "execution_count": 51,
      "outputs": []
    },
    {
      "cell_type": "code",
      "source": [
        "(rz(np.pi)@one).round()"
      ],
      "metadata": {
        "colab": {
          "base_uri": "https://localhost:8080/"
        },
        "id": "Cd5kMr1hFGho",
        "outputId": "dc36479b-1d6f-44de-e12c-7cf1df094997"
      },
      "execution_count": 59,
      "outputs": [
        {
          "output_type": "execute_result",
          "data": {
            "text/plain": [
              "array([ 0.+0.j, -1.-0.j])"
            ]
          },
          "metadata": {},
          "execution_count": 59
        }
      ]
    },
    {
      "cell_type": "code",
      "source": [
        "Hadamard()@zero"
      ],
      "metadata": {
        "colab": {
          "base_uri": "https://localhost:8080/"
        },
        "id": "wFHj9WvdFX6y",
        "outputId": "0fde2269-a48d-475a-ce39-66c48e412ec6"
      },
      "execution_count": 47,
      "outputs": [
        {
          "output_type": "execute_result",
          "data": {
            "text/plain": [
              "array([0.70710678, 0.70710678])"
            ]
          },
          "metadata": {},
          "execution_count": 47
        }
      ]
    },
    {
      "cell_type": "code",
      "source": [
        "gate = kron(Hadamard(),identity(),identity())"
      ],
      "metadata": {
        "id": "saxx5ujL7cDZ"
      },
      "execution_count": 16,
      "outputs": []
    },
    {
      "cell_type": "code",
      "source": [
        "zero.conj().T"
      ],
      "metadata": {
        "colab": {
          "base_uri": "https://localhost:8080/"
        },
        "id": "1djhOVgW9o80",
        "outputId": "d8100bc8-ca44-4100-93b1-db1c6a0d2e46"
      },
      "execution_count": 33,
      "outputs": [
        {
          "output_type": "execute_result",
          "data": {
            "text/plain": [
              "array([1, 0])"
            ]
          },
          "metadata": {},
          "execution_count": 33
        }
      ]
    },
    {
      "cell_type": "code",
      "source": [
        "new_state = gate @ state"
      ],
      "metadata": {
        "id": "W0j4izyg7mFQ"
      },
      "execution_count": 17,
      "outputs": []
    },
    {
      "cell_type": "code",
      "source": [
        "def X():\n",
        "    return np.array([[0,1],[1,0]])\n",
        "new_state"
      ],
      "metadata": {
        "colab": {
          "base_uri": "https://localhost:8080/"
        },
        "id": "MJuSOF8J60PN",
        "outputId": "682e8f0c-24a5-46ff-9290-14e3c331ee8d"
      },
      "execution_count": 19,
      "outputs": [
        {
          "output_type": "execute_result",
          "data": {
            "text/plain": [
              "array([0.70710678, 0.        , 0.        , 0.        , 0.70710678,\n",
              "       0.        , 0.        , 0.        ])"
            ]
          },
          "metadata": {},
          "execution_count": 19
        }
      ]
    },
    {
      "cell_type": "code",
      "source": [
        "CNOT = kron(np.outer(zero,zero),identity(),identity()) + kron(np.outer(one,one),identity(),X())"
      ],
      "metadata": {
        "id": "9HVeNtqA8Wvu"
      },
      "execution_count": 34,
      "outputs": []
    },
    {
      "cell_type": "code",
      "source": [
        "CNOT"
      ],
      "metadata": {
        "colab": {
          "base_uri": "https://localhost:8080/"
        },
        "id": "4JnRza6D8_Rl",
        "outputId": "2b246916-9118-48fc-83d4-4c841ea62785"
      },
      "execution_count": 35,
      "outputs": [
        {
          "output_type": "execute_result",
          "data": {
            "text/plain": [
              "array([[1, 0, 0, 0, 0, 0, 0, 0],\n",
              "       [0, 1, 0, 0, 0, 0, 0, 0],\n",
              "       [0, 0, 1, 0, 0, 0, 0, 0],\n",
              "       [0, 0, 0, 1, 0, 0, 0, 0],\n",
              "       [0, 0, 0, 0, 0, 1, 0, 0],\n",
              "       [0, 0, 0, 0, 1, 0, 0, 0],\n",
              "       [0, 0, 0, 0, 0, 0, 0, 1],\n",
              "       [0, 0, 0, 0, 0, 0, 1, 0]])"
            ]
          },
          "metadata": {},
          "execution_count": 35
        }
      ]
    },
    {
      "cell_type": "code",
      "source": [
        "new_state = CNOT @ new_state"
      ],
      "metadata": {
        "id": "rIJXYGKX847t"
      },
      "execution_count": 36,
      "outputs": []
    },
    {
      "cell_type": "code",
      "source": [
        "new_state"
      ],
      "metadata": {
        "colab": {
          "base_uri": "https://localhost:8080/"
        },
        "id": "Xp3d6gAC-5Nc",
        "outputId": "2da5ad27-7d43-4128-d390-2cc701169dd8"
      },
      "execution_count": 37,
      "outputs": [
        {
          "output_type": "execute_result",
          "data": {
            "text/plain": [
              "array([0.70710678, 0.        , 0.        , 0.        , 0.        ,\n",
              "       0.70710678, 0.        , 0.        ])"
            ]
          },
          "metadata": {},
          "execution_count": 37
        }
      ]
    },
    {
      "cell_type": "code",
      "source": [
        "result = []\n",
        "\n",
        "start = np.array(1)\n",
        "\n",
        "for i in range(3):\n",
        "\n",
        "  start = np.array(1)\n",
        "  for j in range(3):\n",
        "    if j == i:\n",
        "      x = Hadamard()\n",
        "    else:\n",
        "      x = identity()\n",
        "    start = kron(start,x)\n",
        "  result.append(start)\n",
        "\n",
        "for i in result:\n",
        "  for j in i:\n",
        "    print(j)\n",
        "\n"
      ],
      "metadata": {
        "colab": {
          "base_uri": "https://localhost:8080/"
        },
        "id": "fbAijX0rCy1_",
        "outputId": "b2517148-e025-4834-e8e1-b0916a164d1c"
      },
      "execution_count": 42,
      "outputs": [
        {
          "output_type": "stream",
          "name": "stdout",
          "text": [
            "[0.5 0.  0.  0.  0.5 0.  0.  0. ]\n",
            "[0.  0.5 0.  0.  0.  0.5 0.  0. ]\n",
            "[0.  0.  0.5 0.  0.  0.  0.5 0. ]\n",
            "[0.  0.  0.  0.5 0.  0.  0.  0.5]\n",
            "[ 0.5  0.   0.   0.  -0.5 -0.  -0.  -0. ]\n",
            "[ 0.   0.5  0.   0.  -0.  -0.5 -0.  -0. ]\n",
            "[ 0.   0.   0.5  0.  -0.  -0.  -0.5 -0. ]\n",
            "[ 0.   0.   0.   0.5 -0.  -0.  -0.  -0.5]\n",
            "[0.5 0.  0.5 0.  0.  0.  0.  0. ]\n",
            "[0.  0.5 0.  0.5 0.  0.  0.  0. ]\n",
            "[ 0.5  0.  -0.5 -0.   0.   0.  -0.  -0. ]\n",
            "[ 0.   0.5 -0.  -0.5  0.   0.  -0.  -0. ]\n",
            "[0.  0.  0.  0.  0.5 0.  0.5 0. ]\n",
            "[0.  0.  0.  0.  0.  0.5 0.  0.5]\n",
            "[ 0.   0.  -0.  -0.   0.5  0.  -0.5 -0. ]\n",
            "[ 0.   0.  -0.  -0.   0.   0.5 -0.  -0.5]\n",
            "[0.5 0.5 0.  0.  0.  0.  0.  0. ]\n",
            "[ 0.5 -0.5  0.  -0.   0.  -0.   0.  -0. ]\n",
            "[0.  0.  0.5 0.5 0.  0.  0.  0. ]\n",
            "[ 0.  -0.   0.5 -0.5  0.  -0.   0.  -0. ]\n",
            "[0.  0.  0.  0.  0.5 0.5 0.  0. ]\n",
            "[ 0.  -0.   0.  -0.   0.5 -0.5  0.  -0. ]\n",
            "[0.  0.  0.  0.  0.  0.  0.5 0.5]\n",
            "[ 0.  -0.   0.  -0.   0.  -0.   0.5 -0.5]\n"
          ]
        }
      ]
    },
    {
      "cell_type": "code",
      "source": [
        "circuit = np.zeros(32)\n",
        "\n",
        "def x(arr,i):\n"
      ],
      "metadata": {
        "id": "xtsd8bE2zjmr"
      },
      "execution_count": null,
      "outputs": []
    }
  ]
}