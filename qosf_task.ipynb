{
  "nbformat": 4,
  "nbformat_minor": 0,
  "metadata": {
    "colab": {
      "provenance": [],
      "authorship_tag": "ABX9TyN+vLDP1FczI5Ay/KHifYah",
      "include_colab_link": true
    },
    "kernelspec": {
      "name": "python3",
      "display_name": "Python 3"
    },
    "language_info": {
      "name": "python"
    }
  },
  "cells": [
    {
      "cell_type": "markdown",
      "metadata": {
        "id": "view-in-github",
        "colab_type": "text"
      },
      "source": [
        "<a href=\"https://colab.research.google.com/github/DhawalV1/Algorithmic_Trading_and_Quant_Strategies/blob/main/qosf_task.ipynb\" target=\"_parent\"><img src=\"https://colab.research.google.com/assets/colab-badge.svg\" alt=\"Open In Colab\"/></a>"
      ]
    },
    {
      "cell_type": "markdown",
      "source": [],
      "metadata": {
        "id": "eLm7kAeRzjCE"
      }
    },
    {
      "cell_type": "code",
      "source": [
        "# prompt: write kronecker product for any number of matrix\n",
        "\n",
        "import numpy as np\n",
        "\n",
        "def kron(*matrices):\n",
        "  \"\"\"Computes the Kronecker product of multiple matrices.\n",
        "\n",
        "  Args:\n",
        "    *matrices: A sequence of NumPy arrays representing matrices.\n",
        "\n",
        "  Returns:\n",
        "    The Kronecker product of the input matrices.\n",
        "  \"\"\"\n",
        "  result = np.array(1)  # Initialize with a scalar 1\n",
        "  for matrix in matrices:\n",
        "    result = np.kron(result, matrix)\n",
        "  return result\n",
        "\n",
        "# Example usage:\n",
        "# matrix1 = np.array([[1, 2], [3, 4]])\n",
        "# matrix2 = np.array([[5, 6], [7, 8]])\n",
        "# matrix3 = np.array([[9, 10], [11, 12]])\n",
        "# kronecker_prod = kronecker_product(matrix1, matrix2, matrix3)\n",
        "# print(kronecker_prod)"
      ],
      "metadata": {
        "id": "QeDsy3Jr0Ea0"
      },
      "execution_count": null,
      "outputs": []
    },
    {
      "cell_type": "code",
      "source": [
        "def Hadamard():\n",
        "    return np.array([[1,1],[1,-1]])/np.sqrt(2)\n",
        "\n",
        "def identity():\n",
        "    return np.array([[1,0],[0,1]])\n",
        "\n",
        "def rz(theta):\n",
        "    return np.array([[np.exp(theta*1j),0],[0,np.exp(-theta*1j)]])\n",
        "\n",
        "zero = np.array([1,0])\n",
        "one = np.array([0,1])\n",
        "\n",
        "state = kron(zero,zero,zero)"
      ],
      "metadata": {
        "id": "zC-z-6jB3fK2"
      },
      "execution_count": null,
      "outputs": []
    },
    {
      "cell_type": "code",
      "source": [
        "(rz(np.pi)@one).round()"
      ],
      "metadata": {
        "colab": {
          "base_uri": "https://localhost:8080/"
        },
        "id": "Cd5kMr1hFGho",
        "outputId": "dc36479b-1d6f-44de-e12c-7cf1df094997"
      },
      "execution_count": null,
      "outputs": [
        {
          "output_type": "execute_result",
          "data": {
            "text/plain": [
              "array([ 0.+0.j, -1.-0.j])"
            ]
          },
          "metadata": {},
          "execution_count": 59
        }
      ]
    },
    {
      "cell_type": "code",
      "source": [
        "Hadamard()@zero"
      ],
      "metadata": {
        "colab": {
          "base_uri": "https://localhost:8080/"
        },
        "id": "wFHj9WvdFX6y",
        "outputId": "0fde2269-a48d-475a-ce39-66c48e412ec6"
      },
      "execution_count": null,
      "outputs": [
        {
          "output_type": "execute_result",
          "data": {
            "text/plain": [
              "array([0.70710678, 0.70710678])"
            ]
          },
          "metadata": {},
          "execution_count": 47
        }
      ]
    },
    {
      "cell_type": "code",
      "source": [
        "gate = kron(Hadamard(),identity(),identity())"
      ],
      "metadata": {
        "id": "saxx5ujL7cDZ"
      },
      "execution_count": null,
      "outputs": []
    },
    {
      "cell_type": "code",
      "source": [
        "zero.conj().T"
      ],
      "metadata": {
        "colab": {
          "base_uri": "https://localhost:8080/"
        },
        "id": "1djhOVgW9o80",
        "outputId": "d8100bc8-ca44-4100-93b1-db1c6a0d2e46"
      },
      "execution_count": null,
      "outputs": [
        {
          "output_type": "execute_result",
          "data": {
            "text/plain": [
              "array([1, 0])"
            ]
          },
          "metadata": {},
          "execution_count": 33
        }
      ]
    },
    {
      "cell_type": "code",
      "source": [
        "new_state = gate @ state"
      ],
      "metadata": {
        "id": "W0j4izyg7mFQ"
      },
      "execution_count": null,
      "outputs": []
    },
    {
      "cell_type": "code",
      "source": [
        "def X():\n",
        "    return np.array([[0,1],[1,0]])\n",
        "new_state"
      ],
      "metadata": {
        "colab": {
          "base_uri": "https://localhost:8080/"
        },
        "id": "MJuSOF8J60PN",
        "outputId": "682e8f0c-24a5-46ff-9290-14e3c331ee8d"
      },
      "execution_count": null,
      "outputs": [
        {
          "output_type": "execute_result",
          "data": {
            "text/plain": [
              "array([0.70710678, 0.        , 0.        , 0.        , 0.70710678,\n",
              "       0.        , 0.        , 0.        ])"
            ]
          },
          "metadata": {},
          "execution_count": 19
        }
      ]
    },
    {
      "cell_type": "code",
      "source": [
        "CNOT = kron(np.outer(zero,zero),identity(),identity()) + kron(np.outer(one,one),identity(),X())"
      ],
      "metadata": {
        "id": "9HVeNtqA8Wvu"
      },
      "execution_count": null,
      "outputs": []
    },
    {
      "cell_type": "code",
      "source": [
        "CNOT"
      ],
      "metadata": {
        "colab": {
          "base_uri": "https://localhost:8080/"
        },
        "id": "4JnRza6D8_Rl",
        "outputId": "2b246916-9118-48fc-83d4-4c841ea62785"
      },
      "execution_count": null,
      "outputs": [
        {
          "output_type": "execute_result",
          "data": {
            "text/plain": [
              "array([[1, 0, 0, 0, 0, 0, 0, 0],\n",
              "       [0, 1, 0, 0, 0, 0, 0, 0],\n",
              "       [0, 0, 1, 0, 0, 0, 0, 0],\n",
              "       [0, 0, 0, 1, 0, 0, 0, 0],\n",
              "       [0, 0, 0, 0, 0, 1, 0, 0],\n",
              "       [0, 0, 0, 0, 1, 0, 0, 0],\n",
              "       [0, 0, 0, 0, 0, 0, 0, 1],\n",
              "       [0, 0, 0, 0, 0, 0, 1, 0]])"
            ]
          },
          "metadata": {},
          "execution_count": 35
        }
      ]
    },
    {
      "cell_type": "code",
      "source": [
        "new_state = CNOT @ new_state"
      ],
      "metadata": {
        "id": "rIJXYGKX847t"
      },
      "execution_count": null,
      "outputs": []
    },
    {
      "cell_type": "code",
      "source": [
        "new_state"
      ],
      "metadata": {
        "colab": {
          "base_uri": "https://localhost:8080/"
        },
        "id": "Xp3d6gAC-5Nc",
        "outputId": "2da5ad27-7d43-4128-d390-2cc701169dd8"
      },
      "execution_count": null,
      "outputs": [
        {
          "output_type": "execute_result",
          "data": {
            "text/plain": [
              "array([0.70710678, 0.        , 0.        , 0.        , 0.        ,\n",
              "       0.70710678, 0.        , 0.        ])"
            ]
          },
          "metadata": {},
          "execution_count": 37
        }
      ]
    },
    {
      "cell_type": "code",
      "source": [
        "result = []\n",
        "\n",
        "start = np.array(1)\n",
        "\n",
        "for i in range(3):\n",
        "\n",
        "  start = np.array(1)\n",
        "  for j in range(3):\n",
        "    if j == i:\n",
        "      x = Hadamard()\n",
        "    else:\n",
        "      x = identity()\n",
        "    start = kron(start,x)\n",
        "  result.append(start)\n",
        "\n",
        "for i in result:\n",
        "  for j in i:\n",
        "    print(j)\n",
        "\n"
      ],
      "metadata": {
        "colab": {
          "base_uri": "https://localhost:8080/"
        },
        "id": "fbAijX0rCy1_",
        "outputId": "b2517148-e025-4834-e8e1-b0916a164d1c"
      },
      "execution_count": null,
      "outputs": [
        {
          "output_type": "stream",
          "name": "stdout",
          "text": [
            "[0.5 0.  0.  0.  0.5 0.  0.  0. ]\n",
            "[0.  0.5 0.  0.  0.  0.5 0.  0. ]\n",
            "[0.  0.  0.5 0.  0.  0.  0.5 0. ]\n",
            "[0.  0.  0.  0.5 0.  0.  0.  0.5]\n",
            "[ 0.5  0.   0.   0.  -0.5 -0.  -0.  -0. ]\n",
            "[ 0.   0.5  0.   0.  -0.  -0.5 -0.  -0. ]\n",
            "[ 0.   0.   0.5  0.  -0.  -0.  -0.5 -0. ]\n",
            "[ 0.   0.   0.   0.5 -0.  -0.  -0.  -0.5]\n",
            "[0.5 0.  0.5 0.  0.  0.  0.  0. ]\n",
            "[0.  0.5 0.  0.5 0.  0.  0.  0. ]\n",
            "[ 0.5  0.  -0.5 -0.   0.   0.  -0.  -0. ]\n",
            "[ 0.   0.5 -0.  -0.5  0.   0.  -0.  -0. ]\n",
            "[0.  0.  0.  0.  0.5 0.  0.5 0. ]\n",
            "[0.  0.  0.  0.  0.  0.5 0.  0.5]\n",
            "[ 0.   0.  -0.  -0.   0.5  0.  -0.5 -0. ]\n",
            "[ 0.   0.  -0.  -0.   0.   0.5 -0.  -0.5]\n",
            "[0.5 0.5 0.  0.  0.  0.  0.  0. ]\n",
            "[ 0.5 -0.5  0.  -0.   0.  -0.   0.  -0. ]\n",
            "[0.  0.  0.5 0.5 0.  0.  0.  0. ]\n",
            "[ 0.  -0.   0.5 -0.5  0.  -0.   0.  -0. ]\n",
            "[0.  0.  0.  0.  0.5 0.5 0.  0. ]\n",
            "[ 0.  -0.   0.  -0.   0.5 -0.5  0.  -0. ]\n",
            "[0.  0.  0.  0.  0.  0.  0.5 0.5]\n",
            "[ 0.  -0.   0.  -0.   0.  -0.   0.5 -0.5]\n"
          ]
        }
      ]
    },
    {
      "cell_type": "code",
      "source": [
        "circuit = np.zeros(32)\n",
        "\n",
        "def x(arr,i):\n"
      ],
      "metadata": {
        "id": "xtsd8bE2zjmr"
      },
      "execution_count": null,
      "outputs": []
    },
    {
      "cell_type": "code",
      "source": [
        "from qiskit import QuantumCircuit\n",
        "import numpy as np\n",
        "\n",
        "# Define a function to replace an H gate with basis gates\n",
        "def decompose_h():\n",
        "    # H gate decomposition using RZ, SX\n",
        "    decomposed_circuit = QuantumCircuit(1)\n",
        "    decomposed_circuit.rz(np.pi, 0)  # equivalent to Z gate in this context\n",
        "    decomposed_circuit.sx(0)\n",
        "    decomposed_circuit.rz(np.pi, 0)\n",
        "    return decomposed_circuit\n",
        "\n",
        "# Define a function to replace an RX gate with basis gates\n",
        "def decompose_rx(theta):\n",
        "    # RX(theta) decomposition using RZ and SX\n",
        "    decomposed_circuit = QuantumCircuit(1)\n",
        "    decomposed_circuit.rz(np.pi/2, 0)\n",
        "    decomposed_circuit.sx(0)\n",
        "    decomposed_circuit.rz(theta, 0)\n",
        "    decomposed_circuit.sx(0)\n",
        "    decomposed_circuit.rz(-np.pi/2, 0)\n",
        "    return decomposed_circuit\n",
        "\n",
        "# Define a function to replace an RY gate with basis gates\n",
        "def decompose_ry(theta):\n",
        "    # RY(theta) decomposition using RZ and SX\n",
        "    decomposed_circuit = QuantumCircuit(1)\n",
        "    decomposed_circuit.rz(np.pi, 0)\n",
        "    decomposed_circuit.sx(0)\n",
        "    decomposed_circuit.rz(theta, 0)\n",
        "    decomposed_circuit.sx(0)\n",
        "    return decomposed_circuit\n",
        "\n",
        "# Define a function to transpile a full circuit from scratch\n",
        "def custom_transpile(circuit):\n",
        "    transpiled_circuit = QuantumCircuit(circuit.num_qubits)\n",
        "\n",
        "    for instr, qargs, cargs in circuit.data:\n",
        "        gate_name = instr.name\n",
        "        qubit_index = [qubit.index for qubit in qargs]\n",
        "\n",
        "        if gate_name == \"h\":\n",
        "            # Decompose H gate\n",
        "            decomposed_h = decompose_h()\n",
        "            transpiled_circuit.compose(decomposed_h, qubit_index, inplace=True)\n",
        "\n",
        "        elif gate_name == \"rx\":\n",
        "            # Decompose RX gate\n",
        "            theta = instr.params[0]\n",
        "            decomposed_rx = decompose_rx(theta)\n",
        "            transpiled_circuit.compose(decomposed_rx, qubit_index, inplace=True)\n",
        "\n",
        "        elif gate_name == \"ry\":\n",
        "            # Decompose RY gate\n",
        "            theta = instr.params[0]\n",
        "            decomposed_ry = decompose_ry(theta)\n",
        "            transpiled_circuit.compose(decomposed_ry, qubit_index, inplace=True)\n",
        "\n",
        "        elif gate_name == \"rz\":\n",
        "            # RZ is already a basis gate\n",
        "            transpiled_circuit.rz(instr.params[0], qubit_index[0])\n",
        "\n",
        "        elif gate_name == \"sx\":\n",
        "            # SX is already a basis gate\n",
        "            transpiled_circuit.sx(qubit_index[0])\n",
        "\n",
        "        elif gate_name == \"x\":\n",
        "            # X is already a basis gate\n",
        "            transpiled_circuit.x(qubit_index[0])\n",
        "\n",
        "        elif gate_name == \"cx\":\n",
        "            # CX is already a basis gate\n",
        "            transpiled_circuit.cx(qubit_index[0], qubit_index[1])\n",
        "\n",
        "        else:\n",
        "            raise ValueError(f\"Gate {gate_name} is not supported in the basis set.\")\n",
        "\n",
        "    return transpiled_circuit\n",
        "\n",
        "# Example circuit with a mix of gates\n",
        "qc = QuantumCircuit(2)\n",
        "qc.h(0)\n",
        "qc.cx(0, 1)\n",
        "qc.rx(np.pi/3, 1)\n",
        "qc.ry(np.pi/4, 0)\n",
        "\n",
        "print(\"Original Circuit:\")\n",
        "print(qc)\n",
        "\n",
        "# Transpile the circuit manually\n",
        "transpiled_qc = custom_transpile(qc)\n",
        "\n",
        "print(\"\\nTranspiled Circuit:\")\n",
        "print(transpiled_qc)\n",
        "\n"
      ],
      "metadata": {
        "id": "f85DWUlBCUXh",
        "colab": {
          "base_uri": "https://localhost:8080/",
          "height": 515
        },
        "outputId": "1dbb25ad-6d73-4395-825c-bbc32860179f"
      },
      "execution_count": 3,
      "outputs": [
        {
          "output_type": "stream",
          "name": "stdout",
          "text": [
            "Original Circuit:\n",
            "     ┌───┐     ┌─────────┐\n",
            "q_0: ┤ H ├──■──┤ Ry(π/4) ├\n",
            "     └───┘┌─┴─┐├─────────┤\n",
            "q_1: ─────┤ X ├┤ Rx(π/3) ├\n",
            "          └───┘└─────────┘\n"
          ]
        },
        {
          "output_type": "stream",
          "name": "stderr",
          "text": [
            "<ipython-input-3-ff0c7321fc01>:38: DeprecationWarning: Treating CircuitInstruction as an iterable is deprecated legacy behavior since Qiskit 1.2, and will be removed in Qiskit 2.0. Instead, use the `operation`, `qubits` and `clbits` named attributes.\n",
            "  for instr, qargs, cargs in circuit.data:\n"
          ]
        },
        {
          "output_type": "error",
          "ename": "AttributeError",
          "evalue": "'Qubit' object has no attribute 'index'",
          "traceback": [
            "\u001b[0;31m---------------------------------------------------------------------------\u001b[0m",
            "\u001b[0;31mAttributeError\u001b[0m                            Traceback (most recent call last)",
            "\u001b[0;32m<ipython-input-3-ff0c7321fc01>\u001b[0m in \u001b[0;36m<cell line: 91>\u001b[0;34m()\u001b[0m\n\u001b[1;32m     89\u001b[0m \u001b[0;34m\u001b[0m\u001b[0m\n\u001b[1;32m     90\u001b[0m \u001b[0;31m# Transpile the circuit manually\u001b[0m\u001b[0;34m\u001b[0m\u001b[0;34m\u001b[0m\u001b[0m\n\u001b[0;32m---> 91\u001b[0;31m \u001b[0mtranspiled_qc\u001b[0m \u001b[0;34m=\u001b[0m \u001b[0mcustom_transpile\u001b[0m\u001b[0;34m(\u001b[0m\u001b[0mqc\u001b[0m\u001b[0;34m)\u001b[0m\u001b[0;34m\u001b[0m\u001b[0;34m\u001b[0m\u001b[0m\n\u001b[0m\u001b[1;32m     92\u001b[0m \u001b[0;34m\u001b[0m\u001b[0m\n\u001b[1;32m     93\u001b[0m \u001b[0mprint\u001b[0m\u001b[0;34m(\u001b[0m\u001b[0;34m\"\\nTranspiled Circuit:\"\u001b[0m\u001b[0;34m)\u001b[0m\u001b[0;34m\u001b[0m\u001b[0;34m\u001b[0m\u001b[0m\n",
            "\u001b[0;32m<ipython-input-3-ff0c7321fc01>\u001b[0m in \u001b[0;36mcustom_transpile\u001b[0;34m(circuit)\u001b[0m\n\u001b[1;32m     38\u001b[0m     \u001b[0;32mfor\u001b[0m \u001b[0minstr\u001b[0m\u001b[0;34m,\u001b[0m \u001b[0mqargs\u001b[0m\u001b[0;34m,\u001b[0m \u001b[0mcargs\u001b[0m \u001b[0;32min\u001b[0m \u001b[0mcircuit\u001b[0m\u001b[0;34m.\u001b[0m\u001b[0mdata\u001b[0m\u001b[0;34m:\u001b[0m\u001b[0;34m\u001b[0m\u001b[0;34m\u001b[0m\u001b[0m\n\u001b[1;32m     39\u001b[0m         \u001b[0mgate_name\u001b[0m \u001b[0;34m=\u001b[0m \u001b[0minstr\u001b[0m\u001b[0;34m.\u001b[0m\u001b[0mname\u001b[0m\u001b[0;34m\u001b[0m\u001b[0;34m\u001b[0m\u001b[0m\n\u001b[0;32m---> 40\u001b[0;31m         \u001b[0mqubit_index\u001b[0m \u001b[0;34m=\u001b[0m \u001b[0;34m[\u001b[0m\u001b[0mqubit\u001b[0m\u001b[0;34m.\u001b[0m\u001b[0mindex\u001b[0m \u001b[0;32mfor\u001b[0m \u001b[0mqubit\u001b[0m \u001b[0;32min\u001b[0m \u001b[0mqargs\u001b[0m\u001b[0;34m]\u001b[0m\u001b[0;34m\u001b[0m\u001b[0;34m\u001b[0m\u001b[0m\n\u001b[0m\u001b[1;32m     41\u001b[0m \u001b[0;34m\u001b[0m\u001b[0m\n\u001b[1;32m     42\u001b[0m         \u001b[0;32mif\u001b[0m \u001b[0mgate_name\u001b[0m \u001b[0;34m==\u001b[0m \u001b[0;34m\"h\"\u001b[0m\u001b[0;34m:\u001b[0m\u001b[0;34m\u001b[0m\u001b[0;34m\u001b[0m\u001b[0m\n",
            "\u001b[0;32m<ipython-input-3-ff0c7321fc01>\u001b[0m in \u001b[0;36m<listcomp>\u001b[0;34m(.0)\u001b[0m\n\u001b[1;32m     38\u001b[0m     \u001b[0;32mfor\u001b[0m \u001b[0minstr\u001b[0m\u001b[0;34m,\u001b[0m \u001b[0mqargs\u001b[0m\u001b[0;34m,\u001b[0m \u001b[0mcargs\u001b[0m \u001b[0;32min\u001b[0m \u001b[0mcircuit\u001b[0m\u001b[0;34m.\u001b[0m\u001b[0mdata\u001b[0m\u001b[0;34m:\u001b[0m\u001b[0;34m\u001b[0m\u001b[0;34m\u001b[0m\u001b[0m\n\u001b[1;32m     39\u001b[0m         \u001b[0mgate_name\u001b[0m \u001b[0;34m=\u001b[0m \u001b[0minstr\u001b[0m\u001b[0;34m.\u001b[0m\u001b[0mname\u001b[0m\u001b[0;34m\u001b[0m\u001b[0;34m\u001b[0m\u001b[0m\n\u001b[0;32m---> 40\u001b[0;31m         \u001b[0mqubit_index\u001b[0m \u001b[0;34m=\u001b[0m \u001b[0;34m[\u001b[0m\u001b[0mqubit\u001b[0m\u001b[0;34m.\u001b[0m\u001b[0mindex\u001b[0m \u001b[0;32mfor\u001b[0m \u001b[0mqubit\u001b[0m \u001b[0;32min\u001b[0m \u001b[0mqargs\u001b[0m\u001b[0;34m]\u001b[0m\u001b[0;34m\u001b[0m\u001b[0;34m\u001b[0m\u001b[0m\n\u001b[0m\u001b[1;32m     41\u001b[0m \u001b[0;34m\u001b[0m\u001b[0m\n\u001b[1;32m     42\u001b[0m         \u001b[0;32mif\u001b[0m \u001b[0mgate_name\u001b[0m \u001b[0;34m==\u001b[0m \u001b[0;34m\"h\"\u001b[0m\u001b[0;34m:\u001b[0m\u001b[0;34m\u001b[0m\u001b[0;34m\u001b[0m\u001b[0m\n",
            "\u001b[0;31mAttributeError\u001b[0m: 'Qubit' object has no attribute 'index'"
          ]
        }
      ]
    },
    {
      "cell_type": "code",
      "source": [
        "for instr, qargs, cargs in qc.data:\n",
        "  # print(instr.name,qargs,cargs)\n",
        "  print(qargs)"
      ],
      "metadata": {
        "colab": {
          "base_uri": "https://localhost:8080/"
        },
        "id": "GHVGt_62KDwj",
        "outputId": "0d2867f2-aed2-4d2a-da44-af6c41e44ea3"
      },
      "execution_count": 7,
      "outputs": [
        {
          "output_type": "stream",
          "name": "stdout",
          "text": [
            "[Qubit(QuantumRegister(2, 'q'), 0)]\n",
            "[Qubit(QuantumRegister(2, 'q'), 0), Qubit(QuantumRegister(2, 'q'), 1)]\n",
            "[Qubit(QuantumRegister(2, 'q'), 1)]\n",
            "[Qubit(QuantumRegister(2, 'q'), 0)]\n"
          ]
        },
        {
          "output_type": "stream",
          "name": "stderr",
          "text": [
            "<ipython-input-7-2848a71d0f71>:1: DeprecationWarning: Treating CircuitInstruction as an iterable is deprecated legacy behavior since Qiskit 1.2, and will be removed in Qiskit 2.0. Instead, use the `operation`, `qubits` and `clbits` named attributes.\n",
            "  for instr, qargs, cargs in qc.data:\n"
          ]
        }
      ]
    },
    {
      "cell_type": "code",
      "source": [
        "import numpy as np\n",
        "from qiskit import QuantumCircuit\n",
        "from qiskit.circuit.library import XGate, YGate, ZGate\n",
        "\n",
        "qc = QuantumCircuit(2)\n",
        "qc.h(0)\n",
        "qc.cx(0, 1)\n",
        "qc.draw()"
      ],
      "metadata": {
        "colab": {
          "base_uri": "https://localhost:8080/",
          "height": 94
        },
        "id": "3TaNbJH0NTjB",
        "outputId": "abcf9f62-7dcb-452d-f508-501a5136ff5f"
      },
      "execution_count": 12,
      "outputs": [
        {
          "output_type": "execute_result",
          "data": {
            "text/plain": [
              "     ┌───┐     \n",
              "q_0: ┤ H ├──■──\n",
              "     └───┘┌─┴─┐\n",
              "q_1: ─────┤ X ├\n",
              "          └───┘"
            ],
            "text/html": [
              "<pre style=\"word-wrap: normal;white-space: pre;background: #fff0;line-height: 1.1;font-family: &quot;Courier New&quot;,Courier,monospace\">     ┌───┐     \n",
              "q_0: ┤ H ├──■──\n",
              "     └───┘┌─┴─┐\n",
              "q_1: ─────┤ X ├\n",
              "          └───┘</pre>"
            ]
          },
          "metadata": {},
          "execution_count": 12
        }
      ]
    },
    {
      "cell_type": "code",
      "source": [
        "import numpy as np\n",
        "from qiskit import QuantumCircuit\n",
        "from qiskit.circuit.library import XGate, YGate, ZGate\n",
        "\n",
        "def add_noise(circuit, alpha, beta):\n",
        "    \"\"\"\n",
        "    Adds noise to a quantum circuit by introducing random Pauli operators\n",
        "    after one-qubit and two-qubit gates with given probabilities.\n",
        "\n",
        "    Parameters:\n",
        "    - circuit (QuantumCircuit): The quantum circuit to which noise will be added.\n",
        "    - p1 (float): Probability of adding a random Pauli gate after each one-qubit gate.\n",
        "    - p2 (float): Probability of adding a random Pauli gate after each two-qubit gate.\n",
        "\n",
        "    Returns:\n",
        "    - QuantumCircuit: A new quantum circuit with added noise.\n",
        "    \"\"\"\n",
        "\n",
        "    noisy_circuit = QuantumCircuit(circuit.num_qubits)\n",
        "\n",
        "    # Dictionary of Pauli gates\n",
        "    pauli_gates = [XGate(), YGate(), ZGate()]\n",
        "\n",
        "    for instruction in circuit.data:\n",
        "        gate = instruction.operation\n",
        "        qubits = [qubit.index for qubit in instruction.qubits]\n",
        "\n",
        "        # Append the original gate to the new circuit\n",
        "        noisy_circuit.append(gate, qubits)\n",
        "\n",
        "        # Determine if noise should be added\n",
        "        if gate.num_qubits == 1:\n",
        "            # Add noise after a one-qubit gate with probability p1\n",
        "            if np.random.rand() < p1:\n",
        "                pauli_gate = np.random.choice(pauli_gates)\n",
        "                noisy_circuit.append(pauli_gate, [qubits[0]])\n",
        "\n",
        "        elif gate.num_qubits == 2:\n",
        "            # Add noise after a two-qubit gate with probability p2\n",
        "            if np.random.rand() < p2:\n",
        "                # Apply a random Pauli gate to each qubit in the two-qubit gate\n",
        "                for qubit in qubits:\n",
        "                    pauli_gate = np.random.choice(pauli_gates)\n",
        "                    noisy_circuit.append(pauli_gate, [qubit])\n",
        "\n",
        "    return noisy_circuit\n",
        "\n",
        "add_noise(q)\n"
      ],
      "metadata": {
        "colab": {
          "base_uri": "https://localhost:8080/",
          "height": 176
        },
        "id": "-G9ex0mYM94-",
        "outputId": "92a5ad18-1fe1-4920-e939-e3f3f525fa08"
      },
      "execution_count": 13,
      "outputs": [
        {
          "output_type": "error",
          "ename": "TypeError",
          "evalue": "add_noise() missing 3 required positional arguments: 'circuit', 'alpha', and 'beta'",
          "traceback": [
            "\u001b[0;31m---------------------------------------------------------------------------\u001b[0m",
            "\u001b[0;31mTypeError\u001b[0m                                 Traceback (most recent call last)",
            "\u001b[0;32m<ipython-input-13-d8aa8296b64a>\u001b[0m in \u001b[0;36m<cell line: 48>\u001b[0;34m()\u001b[0m\n\u001b[1;32m     46\u001b[0m     \u001b[0;32mreturn\u001b[0m \u001b[0mnoisy_circuit\u001b[0m\u001b[0;34m\u001b[0m\u001b[0;34m\u001b[0m\u001b[0m\n\u001b[1;32m     47\u001b[0m \u001b[0;34m\u001b[0m\u001b[0m\n\u001b[0;32m---> 48\u001b[0;31m \u001b[0madd_noise\u001b[0m\u001b[0;34m(\u001b[0m\u001b[0;34m)\u001b[0m\u001b[0;34m\u001b[0m\u001b[0;34m\u001b[0m\u001b[0m\n\u001b[0m",
            "\u001b[0;31mTypeError\u001b[0m: add_noise() missing 3 required positional arguments: 'circuit', 'alpha', and 'beta'"
          ]
        }
      ]
    },
    {
      "cell_type": "code",
      "source": [
        "from qiskit import QuantumCircuit\n",
        "import numpy as np\n",
        "\n",
        "# Define a function to replace an H gate with basis gates\n",
        "def decompose_h():\n",
        "    # H gate decomposition using RZ, SX\n",
        "    decomposed_circuit = QuantumCircuit(1)\n",
        "    decomposed_circuit.rz(np.pi, 0)  # equivalent to Z gate in this context\n",
        "    decomposed_circuit.sx(0)\n",
        "    decomposed_circuit.rz(np.pi, 0)\n",
        "    return decomposed_circuit\n",
        "\n",
        "# Define a function to replace an RX gate with basis gates\n",
        "def decompose_rx(theta):\n",
        "    # RX(theta) decomposition using RZ and SX\n",
        "    decomposed_circuit = QuantumCircuit(1)\n",
        "    decomposed_circuit.rz(np.pi/2, 0)\n",
        "    decomposed_circuit.sx(0)\n",
        "    decomposed_circuit.rz(theta, 0)\n",
        "    decomposed_circuit.sx(0)\n",
        "    decomposed_circuit.rz(-np.pi/2, 0)\n",
        "    return decomposed_circuit\n",
        "\n",
        "# Define a function to replace an RY gate with basis gates\n",
        "def decompose_ry(theta):\n",
        "    # RY(theta) decomposition using RZ and SX\n",
        "    decomposed_circuit = QuantumCircuit(1)\n",
        "    decomposed_circuit.rz(np.pi, 0)\n",
        "    decomposed_circuit.sx(0)\n",
        "    decomposed_circuit.rz(theta, 0)\n",
        "    decomposed_circuit.sx(0)\n",
        "    return decomposed_circuit\n",
        "\n",
        "# Define a function to transpile a full circuit from scratch\n",
        "def custom_transpile(circuit):\n",
        "    transpiled_circuit = QuantumCircuit(circuit.num_qubits)\n",
        "\n",
        "    # Update the loop to use operation, qubits, and clbits explicitly\n",
        "    for instruction in circuit.data:\n",
        "        instr = instruction.operation\n",
        "        qargs = instruction.qubits\n",
        "        gate_name = instr.name\n",
        "\n",
        "        # Use find_bit to get the correct index for each qubit in qargs\n",
        "        qubit_index = [circuit.find_bit(qubit).index for qubit in qargs]\n",
        "\n",
        "        if gate_name == \"h\":\n",
        "            # Decompose H gate\n",
        "            decomposed_h = decompose_h()\n",
        "            transpiled_circuit.compose(decomposed_h, qubit_index, inplace=True)\n",
        "\n",
        "        elif gate_name == \"rx\":\n",
        "            # Decompose RX gate\n",
        "            theta = instr.params[0]\n",
        "            decomposed_rx = decompose_rx(theta)\n",
        "            transpiled_circuit.compose(decomposed_rx, qubit_index, inplace=True)\n",
        "\n",
        "        elif gate_name == \"ry\":\n",
        "            # Decompose RY gate\n",
        "            theta = instr.params[0]\n",
        "            decomposed_ry = decompose_ry(theta)\n",
        "            transpiled_circuit.compose(decomposed_ry, qubit_index, inplace=True)\n",
        "\n",
        "        elif gate_name == \"rz\":\n",
        "            # RZ is already a basis gate\n",
        "            transpiled_circuit.rz(instr.params[0], qubit_index[0])\n",
        "\n",
        "        elif gate_name == \"sx\":\n",
        "            # SX is already a basis gate\n",
        "            transpiled_circuit.sx(qubit_index[0])\n",
        "\n",
        "        elif gate_name == \"x\":\n",
        "            # X is already a basis gate\n",
        "            transpiled_circuit.x(qubit_index[0])\n",
        "\n",
        "        elif gate_name == \"cx\":\n",
        "            # CX is already a basis gate\n",
        "            transpiled_circuit.cx(qubit_index[0], qubit_index[1])\n",
        "\n",
        "        else:\n",
        "            raise ValueError(f\"Gate {gate_name} is not supported in the basis set.\")\n",
        "\n",
        "    return transpiled_circuit\n",
        "\n",
        "# Example circuit with a mix of gates\n",
        "qc = QuantumCircuit(2)\n",
        "qc.h(0)\n",
        "qc.cx(0, 1)\n",
        "qc.rx(np.pi/3, 1)\n",
        "qc.ry(np.pi/4, 0)\n",
        "\n",
        "print(\"Original Circuit:\")\n",
        "print(qc)\n",
        "\n",
        "# Transpile the circuit manually\n",
        "transpiled_qc = custom_transpile(qc)\n",
        "\n",
        "print(\"\\nTranspiled Circuit:\")\n",
        "print(transpiled_qc)\n"
      ],
      "metadata": {
        "colab": {
          "base_uri": "https://localhost:8080/"
        },
        "id": "NixDEiFrKbDz",
        "outputId": "2e506628-976c-46c9-9b1b-2185ecb07045"
      },
      "execution_count": 9,
      "outputs": [
        {
          "output_type": "stream",
          "name": "stdout",
          "text": [
            "Original Circuit:\n",
            "     ┌───┐     ┌─────────┐\n",
            "q_0: ┤ H ├──■──┤ Ry(π/4) ├\n",
            "     └───┘┌─┴─┐├─────────┤\n",
            "q_1: ─────┤ X ├┤ Rx(π/3) ├\n",
            "          └───┘└─────────┘\n",
            "\n",
            "Transpiled Circuit:\n",
            "     ┌───────┐┌────┐┌───────┐      ┌───────┐ ┌────┐┌─────────┐┌────┐»\n",
            "q_0: ┤ Rz(π) ├┤ √X ├┤ Rz(π) ├──■───┤ Rz(π) ├─┤ √X ├┤ Rz(π/4) ├┤ √X ├»\n",
            "     └───────┘└────┘└───────┘┌─┴─┐┌┴───────┴┐├────┤├─────────┤├────┤»\n",
            "q_1: ────────────────────────┤ X ├┤ Rz(π/2) ├┤ √X ├┤ Rz(π/3) ├┤ √X ├»\n",
            "                             └───┘└─────────┘└────┘└─────────┘└────┘»\n",
            "«                 \n",
            "«q_0: ────────────\n",
            "«     ┌──────────┐\n",
            "«q_1: ┤ Rz(-π/2) ├\n",
            "«     └──────────┘\n"
          ]
        }
      ]
    },
    {
      "cell_type": "code",
      "source": [],
      "metadata": {
        "id": "8UwWLQXtLhZt"
      },
      "execution_count": null,
      "outputs": []
    }
  ]
}