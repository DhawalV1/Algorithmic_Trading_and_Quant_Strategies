{
  "nbformat": 4,
  "nbformat_minor": 0,
  "metadata": {
    "colab": {
      "provenance": [],
      "authorship_tag": "ABX9TyMqgEXPcKvEwm5W4QDE3KEz",
      "include_colab_link": true
    },
    "kernelspec": {
      "name": "python3",
      "display_name": "Python 3"
    },
    "language_info": {
      "name": "python"
    }
  },
  "cells": [
    {
      "cell_type": "markdown",
      "metadata": {
        "id": "view-in-github",
        "colab_type": "text"
      },
      "source": [
        "<a href=\"https://colab.research.google.com/github/DhawalV1/Algorithmic_Trading_and_Quant_Strategies/blob/main/qosf_task.ipynb\" target=\"_parent\"><img src=\"https://colab.research.google.com/assets/colab-badge.svg\" alt=\"Open In Colab\"/></a>"
      ]
    },
    {
      "cell_type": "markdown",
      "source": [],
      "metadata": {
        "id": "eLm7kAeRzjCE"
      }
    },
    {
      "cell_type": "code",
      "source": [
        "# prompt: write kronecker product for any number of matrix\n",
        "\n",
        "import numpy as np\n",
        "\n",
        "def kron(*matrices):\n",
        "  \"\"\"Computes the Kronecker product of multiple matrices.\n",
        "\n",
        "  Args:\n",
        "    *matrices: A sequence of NumPy arrays representing matrices.\n",
        "\n",
        "  Returns:\n",
        "    The Kronecker product of the input matrices.\n",
        "  \"\"\"\n",
        "  result = np.array(1)  # Initialize with a scalar 1\n",
        "  for matrix in matrices:\n",
        "    result = np.kron(result, matrix)\n",
        "  return result\n",
        "\n",
        "# Example usage:\n",
        "# matrix1 = np.array([[1, 2], [3, 4]])\n",
        "# matrix2 = np.array([[5, 6], [7, 8]])\n",
        "# matrix3 = np.array([[9, 10], [11, 12]])\n",
        "# kronecker_prod = kronecker_product(matrix1, matrix2, matrix3)\n",
        "# print(kronecker_prod)"
      ],
      "metadata": {
        "id": "QeDsy3Jr0Ea0"
      },
      "execution_count": null,
      "outputs": []
    },
    {
      "cell_type": "code",
      "source": [
        "def Hadamard():\n",
        "    return np.array([[1,1],[1,-1]])/np.sqrt(2)\n",
        "\n",
        "def identity():\n",
        "    return np.array([[1,0],[0,1]])\n",
        "\n",
        "def rz(theta):\n",
        "    return np.array([[np.exp(theta*1j),0],[0,np.exp(-theta*1j)]])\n",
        "\n",
        "zero = np.array([1,0])\n",
        "one = np.array([0,1])\n",
        "\n",
        "state = kron(zero,zero,zero)"
      ],
      "metadata": {
        "id": "zC-z-6jB3fK2"
      },
      "execution_count": null,
      "outputs": []
    },
    {
      "cell_type": "code",
      "source": [
        "(rz(np.pi)@one).round()"
      ],
      "metadata": {
        "colab": {
          "base_uri": "https://localhost:8080/"
        },
        "id": "Cd5kMr1hFGho",
        "outputId": "dc36479b-1d6f-44de-e12c-7cf1df094997"
      },
      "execution_count": null,
      "outputs": [
        {
          "output_type": "execute_result",
          "data": {
            "text/plain": [
              "array([ 0.+0.j, -1.-0.j])"
            ]
          },
          "metadata": {},
          "execution_count": 59
        }
      ]
    },
    {
      "cell_type": "code",
      "source": [
        "Hadamard()@zero"
      ],
      "metadata": {
        "colab": {
          "base_uri": "https://localhost:8080/"
        },
        "id": "wFHj9WvdFX6y",
        "outputId": "0fde2269-a48d-475a-ce39-66c48e412ec6"
      },
      "execution_count": null,
      "outputs": [
        {
          "output_type": "execute_result",
          "data": {
            "text/plain": [
              "array([0.70710678, 0.70710678])"
            ]
          },
          "metadata": {},
          "execution_count": 47
        }
      ]
    },
    {
      "cell_type": "code",
      "source": [
        "gate = kron(Hadamard(),identity(),identity())"
      ],
      "metadata": {
        "id": "saxx5ujL7cDZ"
      },
      "execution_count": null,
      "outputs": []
    },
    {
      "cell_type": "code",
      "source": [
        "zero.conj().T"
      ],
      "metadata": {
        "colab": {
          "base_uri": "https://localhost:8080/"
        },
        "id": "1djhOVgW9o80",
        "outputId": "d8100bc8-ca44-4100-93b1-db1c6a0d2e46"
      },
      "execution_count": null,
      "outputs": [
        {
          "output_type": "execute_result",
          "data": {
            "text/plain": [
              "array([1, 0])"
            ]
          },
          "metadata": {},
          "execution_count": 33
        }
      ]
    },
    {
      "cell_type": "code",
      "source": [
        "new_state = gate @ state"
      ],
      "metadata": {
        "id": "W0j4izyg7mFQ"
      },
      "execution_count": null,
      "outputs": []
    },
    {
      "cell_type": "code",
      "source": [
        "def X():\n",
        "    return np.array([[0,1],[1,0]])\n",
        "new_state"
      ],
      "metadata": {
        "colab": {
          "base_uri": "https://localhost:8080/"
        },
        "id": "MJuSOF8J60PN",
        "outputId": "682e8f0c-24a5-46ff-9290-14e3c331ee8d"
      },
      "execution_count": null,
      "outputs": [
        {
          "output_type": "execute_result",
          "data": {
            "text/plain": [
              "array([0.70710678, 0.        , 0.        , 0.        , 0.70710678,\n",
              "       0.        , 0.        , 0.        ])"
            ]
          },
          "metadata": {},
          "execution_count": 19
        }
      ]
    },
    {
      "cell_type": "code",
      "source": [
        "CNOT = kron(np.outer(zero,zero),identity(),identity()) + kron(np.outer(one,one),identity(),X())"
      ],
      "metadata": {
        "id": "9HVeNtqA8Wvu"
      },
      "execution_count": null,
      "outputs": []
    },
    {
      "cell_type": "code",
      "source": [
        "CNOT"
      ],
      "metadata": {
        "colab": {
          "base_uri": "https://localhost:8080/"
        },
        "id": "4JnRza6D8_Rl",
        "outputId": "2b246916-9118-48fc-83d4-4c841ea62785"
      },
      "execution_count": null,
      "outputs": [
        {
          "output_type": "execute_result",
          "data": {
            "text/plain": [
              "array([[1, 0, 0, 0, 0, 0, 0, 0],\n",
              "       [0, 1, 0, 0, 0, 0, 0, 0],\n",
              "       [0, 0, 1, 0, 0, 0, 0, 0],\n",
              "       [0, 0, 0, 1, 0, 0, 0, 0],\n",
              "       [0, 0, 0, 0, 0, 1, 0, 0],\n",
              "       [0, 0, 0, 0, 1, 0, 0, 0],\n",
              "       [0, 0, 0, 0, 0, 0, 0, 1],\n",
              "       [0, 0, 0, 0, 0, 0, 1, 0]])"
            ]
          },
          "metadata": {},
          "execution_count": 35
        }
      ]
    },
    {
      "cell_type": "code",
      "source": [
        "new_state = CNOT @ new_state"
      ],
      "metadata": {
        "id": "rIJXYGKX847t"
      },
      "execution_count": null,
      "outputs": []
    },
    {
      "cell_type": "code",
      "source": [
        "new_state"
      ],
      "metadata": {
        "colab": {
          "base_uri": "https://localhost:8080/"
        },
        "id": "Xp3d6gAC-5Nc",
        "outputId": "2da5ad27-7d43-4128-d390-2cc701169dd8"
      },
      "execution_count": null,
      "outputs": [
        {
          "output_type": "execute_result",
          "data": {
            "text/plain": [
              "array([0.70710678, 0.        , 0.        , 0.        , 0.        ,\n",
              "       0.70710678, 0.        , 0.        ])"
            ]
          },
          "metadata": {},
          "execution_count": 37
        }
      ]
    },
    {
      "cell_type": "code",
      "source": [
        "result = []\n",
        "\n",
        "start = np.array(1)\n",
        "\n",
        "for i in range(3):\n",
        "\n",
        "  start = np.array(1)\n",
        "  for j in range(3):\n",
        "    if j == i:\n",
        "      x = Hadamard()\n",
        "    else:\n",
        "      x = identity()\n",
        "    start = kron(start,x)\n",
        "  result.append(start)\n",
        "\n",
        "for i in result:\n",
        "  for j in i:\n",
        "    print(j)\n",
        "\n"
      ],
      "metadata": {
        "colab": {
          "base_uri": "https://localhost:8080/"
        },
        "id": "fbAijX0rCy1_",
        "outputId": "b2517148-e025-4834-e8e1-b0916a164d1c"
      },
      "execution_count": null,
      "outputs": [
        {
          "output_type": "stream",
          "name": "stdout",
          "text": [
            "[0.5 0.  0.  0.  0.5 0.  0.  0. ]\n",
            "[0.  0.5 0.  0.  0.  0.5 0.  0. ]\n",
            "[0.  0.  0.5 0.  0.  0.  0.5 0. ]\n",
            "[0.  0.  0.  0.5 0.  0.  0.  0.5]\n",
            "[ 0.5  0.   0.   0.  -0.5 -0.  -0.  -0. ]\n",
            "[ 0.   0.5  0.   0.  -0.  -0.5 -0.  -0. ]\n",
            "[ 0.   0.   0.5  0.  -0.  -0.  -0.5 -0. ]\n",
            "[ 0.   0.   0.   0.5 -0.  -0.  -0.  -0.5]\n",
            "[0.5 0.  0.5 0.  0.  0.  0.  0. ]\n",
            "[0.  0.5 0.  0.5 0.  0.  0.  0. ]\n",
            "[ 0.5  0.  -0.5 -0.   0.   0.  -0.  -0. ]\n",
            "[ 0.   0.5 -0.  -0.5  0.   0.  -0.  -0. ]\n",
            "[0.  0.  0.  0.  0.5 0.  0.5 0. ]\n",
            "[0.  0.  0.  0.  0.  0.5 0.  0.5]\n",
            "[ 0.   0.  -0.  -0.   0.5  0.  -0.5 -0. ]\n",
            "[ 0.   0.  -0.  -0.   0.   0.5 -0.  -0.5]\n",
            "[0.5 0.5 0.  0.  0.  0.  0.  0. ]\n",
            "[ 0.5 -0.5  0.  -0.   0.  -0.   0.  -0. ]\n",
            "[0.  0.  0.5 0.5 0.  0.  0.  0. ]\n",
            "[ 0.  -0.   0.5 -0.5  0.  -0.   0.  -0. ]\n",
            "[0.  0.  0.  0.  0.5 0.5 0.  0. ]\n",
            "[ 0.  -0.   0.  -0.   0.5 -0.5  0.  -0. ]\n",
            "[0.  0.  0.  0.  0.  0.  0.5 0.5]\n",
            "[ 0.  -0.   0.  -0.   0.  -0.   0.5 -0.5]\n"
          ]
        }
      ]
    },
    {
      "cell_type": "code",
      "source": [
        "circuit = np.zeros(32)\n",
        "\n",
        "def x(arr,i):\n"
      ],
      "metadata": {
        "id": "xtsd8bE2zjmr"
      },
      "execution_count": null,
      "outputs": []
    },
    {
      "cell_type": "code",
      "source": [
        "from qiskit import QuantumCircuit\n",
        "import numpy as np\n",
        "\n",
        "# Define a function to replace an H gate with basis gates\n",
        "def decompose_h():\n",
        "    # H gate decomposition using RZ, SX\n",
        "    decomposed_circuit = QuantumCircuit(1)\n",
        "    decomposed_circuit.rz(np.pi, 0)  # equivalent to Z gate in this context\n",
        "    decomposed_circuit.sx(0)\n",
        "    decomposed_circuit.rz(np.pi, 0)\n",
        "    return decomposed_circuit\n",
        "\n",
        "# Define a function to replace an RX gate with basis gates\n",
        "def decompose_rx(theta):\n",
        "    # RX(theta) decomposition using RZ and SX\n",
        "    decomposed_circuit = QuantumCircuit(1)\n",
        "    decomposed_circuit.rz(np.pi/2, 0)\n",
        "    decomposed_circuit.sx(0)\n",
        "    decomposed_circuit.rz(theta, 0)\n",
        "    decomposed_circuit.sx(0)\n",
        "    decomposed_circuit.rz(-np.pi/2, 0)\n",
        "    return decomposed_circuit\n",
        "\n",
        "# Define a function to replace an RY gate with basis gates\n",
        "def decompose_ry(theta):\n",
        "    # RY(theta) decomposition using RZ and SX\n",
        "    decomposed_circuit = QuantumCircuit(1)\n",
        "    decomposed_circuit.rz(np.pi, 0)\n",
        "    decomposed_circuit.sx(0)\n",
        "    decomposed_circuit.rz(theta, 0)\n",
        "    decomposed_circuit.sx(0)\n",
        "    return decomposed_circuit\n",
        "\n",
        "# Define a function to transpile a full circuit from scratch\n",
        "def custom_transpile(circuit):\n",
        "    transpiled_circuit = QuantumCircuit(circuit.num_qubits)\n",
        "\n",
        "    for instr, qargs, cargs in circuit.data:\n",
        "        gate_name = instr.name\n",
        "        qubit_index = [qubit.index for qubit in qargs]\n",
        "\n",
        "        if gate_name == \"h\":\n",
        "            # Decompose H gate\n",
        "            decomposed_h = decompose_h()\n",
        "            transpiled_circuit.compose(decomposed_h, qubit_index, inplace=True)\n",
        "\n",
        "        elif gate_name == \"rx\":\n",
        "            # Decompose RX gate\n",
        "            theta = instr.params[0]\n",
        "            decomposed_rx = decompose_rx(theta)\n",
        "            transpiled_circuit.compose(decomposed_rx, qubit_index, inplace=True)\n",
        "\n",
        "        elif gate_name == \"ry\":\n",
        "            # Decompose RY gate\n",
        "            theta = instr.params[0]\n",
        "            decomposed_ry = decompose_ry(theta)\n",
        "            transpiled_circuit.compose(decomposed_ry, qubit_index, inplace=True)\n",
        "\n",
        "        elif gate_name == \"rz\":\n",
        "            # RZ is already a basis gate\n",
        "            transpiled_circuit.rz(instr.params[0], qubit_index[0])\n",
        "\n",
        "        elif gate_name == \"sx\":\n",
        "            # SX is already a basis gate\n",
        "            transpiled_circuit.sx(qubit_index[0])\n",
        "\n",
        "        elif gate_name == \"x\":\n",
        "            # X is already a basis gate\n",
        "            transpiled_circuit.x(qubit_index[0])\n",
        "\n",
        "        elif gate_name == \"cx\":\n",
        "            # CX is already a basis gate\n",
        "            transpiled_circuit.cx(qubit_index[0], qubit_index[1])\n",
        "\n",
        "        else:\n",
        "            raise ValueError(f\"Gate {gate_name} is not supported in the basis set.\")\n",
        "\n",
        "    return transpiled_circuit\n",
        "\n",
        "# Example circuit with a mix of gates\n",
        "qc = QuantumCircuit(2)\n",
        "qc.h(0)\n",
        "qc.cx(0, 1)\n",
        "qc.rx(np.pi/3, 1)\n",
        "qc.ry(np.pi/4, 0)\n",
        "\n",
        "print(\"Original Circuit:\")\n",
        "print(qc)\n",
        "\n",
        "# Transpile the circuit manually\n",
        "transpiled_qc = custom_transpile(qc)\n",
        "\n",
        "print(\"\\nTranspiled Circuit:\")\n",
        "print(transpiled_qc)\n",
        "\n"
      ],
      "metadata": {
        "id": "f85DWUlBCUXh",
        "colab": {
          "base_uri": "https://localhost:8080/",
          "height": 515
        },
        "outputId": "1dbb25ad-6d73-4395-825c-bbc32860179f"
      },
      "execution_count": 3,
      "outputs": [
        {
          "output_type": "stream",
          "name": "stdout",
          "text": [
            "Original Circuit:\n",
            "     ┌───┐     ┌─────────┐\n",
            "q_0: ┤ H ├──■──┤ Ry(π/4) ├\n",
            "     └───┘┌─┴─┐├─────────┤\n",
            "q_1: ─────┤ X ├┤ Rx(π/3) ├\n",
            "          └───┘└─────────┘\n"
          ]
        },
        {
          "output_type": "stream",
          "name": "stderr",
          "text": [
            "<ipython-input-3-ff0c7321fc01>:38: DeprecationWarning: Treating CircuitInstruction as an iterable is deprecated legacy behavior since Qiskit 1.2, and will be removed in Qiskit 2.0. Instead, use the `operation`, `qubits` and `clbits` named attributes.\n",
            "  for instr, qargs, cargs in circuit.data:\n"
          ]
        },
        {
          "output_type": "error",
          "ename": "AttributeError",
          "evalue": "'Qubit' object has no attribute 'index'",
          "traceback": [
            "\u001b[0;31m---------------------------------------------------------------------------\u001b[0m",
            "\u001b[0;31mAttributeError\u001b[0m                            Traceback (most recent call last)",
            "\u001b[0;32m<ipython-input-3-ff0c7321fc01>\u001b[0m in \u001b[0;36m<cell line: 91>\u001b[0;34m()\u001b[0m\n\u001b[1;32m     89\u001b[0m \u001b[0;34m\u001b[0m\u001b[0m\n\u001b[1;32m     90\u001b[0m \u001b[0;31m# Transpile the circuit manually\u001b[0m\u001b[0;34m\u001b[0m\u001b[0;34m\u001b[0m\u001b[0m\n\u001b[0;32m---> 91\u001b[0;31m \u001b[0mtranspiled_qc\u001b[0m \u001b[0;34m=\u001b[0m \u001b[0mcustom_transpile\u001b[0m\u001b[0;34m(\u001b[0m\u001b[0mqc\u001b[0m\u001b[0;34m)\u001b[0m\u001b[0;34m\u001b[0m\u001b[0;34m\u001b[0m\u001b[0m\n\u001b[0m\u001b[1;32m     92\u001b[0m \u001b[0;34m\u001b[0m\u001b[0m\n\u001b[1;32m     93\u001b[0m \u001b[0mprint\u001b[0m\u001b[0;34m(\u001b[0m\u001b[0;34m\"\\nTranspiled Circuit:\"\u001b[0m\u001b[0;34m)\u001b[0m\u001b[0;34m\u001b[0m\u001b[0;34m\u001b[0m\u001b[0m\n",
            "\u001b[0;32m<ipython-input-3-ff0c7321fc01>\u001b[0m in \u001b[0;36mcustom_transpile\u001b[0;34m(circuit)\u001b[0m\n\u001b[1;32m     38\u001b[0m     \u001b[0;32mfor\u001b[0m \u001b[0minstr\u001b[0m\u001b[0;34m,\u001b[0m \u001b[0mqargs\u001b[0m\u001b[0;34m,\u001b[0m \u001b[0mcargs\u001b[0m \u001b[0;32min\u001b[0m \u001b[0mcircuit\u001b[0m\u001b[0;34m.\u001b[0m\u001b[0mdata\u001b[0m\u001b[0;34m:\u001b[0m\u001b[0;34m\u001b[0m\u001b[0;34m\u001b[0m\u001b[0m\n\u001b[1;32m     39\u001b[0m         \u001b[0mgate_name\u001b[0m \u001b[0;34m=\u001b[0m \u001b[0minstr\u001b[0m\u001b[0;34m.\u001b[0m\u001b[0mname\u001b[0m\u001b[0;34m\u001b[0m\u001b[0;34m\u001b[0m\u001b[0m\n\u001b[0;32m---> 40\u001b[0;31m         \u001b[0mqubit_index\u001b[0m \u001b[0;34m=\u001b[0m \u001b[0;34m[\u001b[0m\u001b[0mqubit\u001b[0m\u001b[0;34m.\u001b[0m\u001b[0mindex\u001b[0m \u001b[0;32mfor\u001b[0m \u001b[0mqubit\u001b[0m \u001b[0;32min\u001b[0m \u001b[0mqargs\u001b[0m\u001b[0;34m]\u001b[0m\u001b[0;34m\u001b[0m\u001b[0;34m\u001b[0m\u001b[0m\n\u001b[0m\u001b[1;32m     41\u001b[0m \u001b[0;34m\u001b[0m\u001b[0m\n\u001b[1;32m     42\u001b[0m         \u001b[0;32mif\u001b[0m \u001b[0mgate_name\u001b[0m \u001b[0;34m==\u001b[0m \u001b[0;34m\"h\"\u001b[0m\u001b[0;34m:\u001b[0m\u001b[0;34m\u001b[0m\u001b[0;34m\u001b[0m\u001b[0m\n",
            "\u001b[0;32m<ipython-input-3-ff0c7321fc01>\u001b[0m in \u001b[0;36m<listcomp>\u001b[0;34m(.0)\u001b[0m\n\u001b[1;32m     38\u001b[0m     \u001b[0;32mfor\u001b[0m \u001b[0minstr\u001b[0m\u001b[0;34m,\u001b[0m \u001b[0mqargs\u001b[0m\u001b[0;34m,\u001b[0m \u001b[0mcargs\u001b[0m \u001b[0;32min\u001b[0m \u001b[0mcircuit\u001b[0m\u001b[0;34m.\u001b[0m\u001b[0mdata\u001b[0m\u001b[0;34m:\u001b[0m\u001b[0;34m\u001b[0m\u001b[0;34m\u001b[0m\u001b[0m\n\u001b[1;32m     39\u001b[0m         \u001b[0mgate_name\u001b[0m \u001b[0;34m=\u001b[0m \u001b[0minstr\u001b[0m\u001b[0;34m.\u001b[0m\u001b[0mname\u001b[0m\u001b[0;34m\u001b[0m\u001b[0;34m\u001b[0m\u001b[0m\n\u001b[0;32m---> 40\u001b[0;31m         \u001b[0mqubit_index\u001b[0m \u001b[0;34m=\u001b[0m \u001b[0;34m[\u001b[0m\u001b[0mqubit\u001b[0m\u001b[0;34m.\u001b[0m\u001b[0mindex\u001b[0m \u001b[0;32mfor\u001b[0m \u001b[0mqubit\u001b[0m \u001b[0;32min\u001b[0m \u001b[0mqargs\u001b[0m\u001b[0;34m]\u001b[0m\u001b[0;34m\u001b[0m\u001b[0;34m\u001b[0m\u001b[0m\n\u001b[0m\u001b[1;32m     41\u001b[0m \u001b[0;34m\u001b[0m\u001b[0m\n\u001b[1;32m     42\u001b[0m         \u001b[0;32mif\u001b[0m \u001b[0mgate_name\u001b[0m \u001b[0;34m==\u001b[0m \u001b[0;34m\"h\"\u001b[0m\u001b[0;34m:\u001b[0m\u001b[0;34m\u001b[0m\u001b[0;34m\u001b[0m\u001b[0m\n",
            "\u001b[0;31mAttributeError\u001b[0m: 'Qubit' object has no attribute 'index'"
          ]
        }
      ]
    },
    {
      "cell_type": "code",
      "source": [
        "for instr, qargs, cargs in qc.data:\n",
        "  # print(instr.name,qargs,cargs)\n",
        "  print(qargs)"
      ],
      "metadata": {
        "colab": {
          "base_uri": "https://localhost:8080/"
        },
        "id": "GHVGt_62KDwj",
        "outputId": "0d2867f2-aed2-4d2a-da44-af6c41e44ea3"
      },
      "execution_count": 7,
      "outputs": [
        {
          "output_type": "stream",
          "name": "stdout",
          "text": [
            "[Qubit(QuantumRegister(2, 'q'), 0)]\n",
            "[Qubit(QuantumRegister(2, 'q'), 0), Qubit(QuantumRegister(2, 'q'), 1)]\n",
            "[Qubit(QuantumRegister(2, 'q'), 1)]\n",
            "[Qubit(QuantumRegister(2, 'q'), 0)]\n"
          ]
        },
        {
          "output_type": "stream",
          "name": "stderr",
          "text": [
            "<ipython-input-7-2848a71d0f71>:1: DeprecationWarning: Treating CircuitInstruction as an iterable is deprecated legacy behavior since Qiskit 1.2, and will be removed in Qiskit 2.0. Instead, use the `operation`, `qubits` and `clbits` named attributes.\n",
            "  for instr, qargs, cargs in qc.data:\n"
          ]
        }
      ]
    },
    {
      "cell_type": "code",
      "source": [
        "import numpy as np\n",
        "from qiskit import QuantumCircuit\n",
        "from qiskit.circuit.library import XGate, YGate, ZGate\n",
        "\n",
        "qc = QuantumCircuit(2)\n",
        "qc.h(0)\n",
        "qc.cx(0, 1)\n",
        "qc.draw()"
      ],
      "metadata": {
        "colab": {
          "base_uri": "https://localhost:8080/",
          "height": 94
        },
        "id": "3TaNbJH0NTjB",
        "outputId": "a1e81672-4f84-46e0-dd7f-a4cae6edd1f2"
      },
      "execution_count": 46,
      "outputs": [
        {
          "output_type": "execute_result",
          "data": {
            "text/plain": [
              "     ┌───┐     \n",
              "q_0: ┤ H ├──■──\n",
              "     └───┘┌─┴─┐\n",
              "q_1: ─────┤ X ├\n",
              "          └───┘"
            ],
            "text/html": [
              "<pre style=\"word-wrap: normal;white-space: pre;background: #fff0;line-height: 1.1;font-family: &quot;Courier New&quot;,Courier,monospace\">     ┌───┐     \n",
              "q_0: ┤ H ├──■──\n",
              "     └───┘┌─┴─┐\n",
              "q_1: ─────┤ X ├\n",
              "          └───┘</pre>"
            ]
          },
          "metadata": {},
          "execution_count": 46
        }
      ]
    },
    {
      "cell_type": "code",
      "source": [
        "get_random_pauli_gate = np.random.choice([XGate(), YGate(), ZGate()])"
      ],
      "metadata": {
        "colab": {
          "base_uri": "https://localhost:8080/",
          "height": 176
        },
        "id": "IRDv9O7zQF9E",
        "outputId": "04910b20-4986-4aee-ce99-f41df2fc4e95"
      },
      "execution_count": 43,
      "outputs": [
        {
          "output_type": "error",
          "ename": "ValueError",
          "evalue": "a must be 1-dimensional",
          "traceback": [
            "\u001b[0;31m---------------------------------------------------------------------------\u001b[0m",
            "\u001b[0;31mValueError\u001b[0m                                Traceback (most recent call last)",
            "\u001b[0;32m<ipython-input-43-2de093215ce6>\u001b[0m in \u001b[0;36m<cell line: 1>\u001b[0;34m()\u001b[0m\n\u001b[0;32m----> 1\u001b[0;31m \u001b[0mget_random_pauli_gate\u001b[0m \u001b[0;34m=\u001b[0m \u001b[0mnp\u001b[0m\u001b[0;34m.\u001b[0m\u001b[0mrandom\u001b[0m\u001b[0;34m.\u001b[0m\u001b[0mchoice\u001b[0m\u001b[0;34m(\u001b[0m\u001b[0;34m[\u001b[0m\u001b[0mXGate\u001b[0m\u001b[0;34m(\u001b[0m\u001b[0;34m)\u001b[0m\u001b[0;34m,\u001b[0m \u001b[0mYGate\u001b[0m\u001b[0;34m(\u001b[0m\u001b[0;34m)\u001b[0m\u001b[0;34m,\u001b[0m \u001b[0mZGate\u001b[0m\u001b[0;34m(\u001b[0m\u001b[0;34m)\u001b[0m\u001b[0;34m]\u001b[0m\u001b[0;34m)\u001b[0m\u001b[0;34m\u001b[0m\u001b[0;34m\u001b[0m\u001b[0m\n\u001b[0m",
            "\u001b[0;32mnumpy/random/mtrand.pyx\u001b[0m in \u001b[0;36mnumpy.random.mtrand.RandomState.choice\u001b[0;34m()\u001b[0m\n",
            "\u001b[0;31mValueError\u001b[0m: a must be 1-dimensional"
          ]
        }
      ]
    },
    {
      "cell_type": "code",
      "source": [
        "get_random_pauli_gate = np.random.choice([XGate(), YGate(), ZGate()])"
      ],
      "metadata": {
        "colab": {
          "base_uri": "https://localhost:8080/"
        },
        "id": "1IlcN4XUQRP7",
        "outputId": "a208af0c-b1fe-46d8-f1e2-bf8527eebe09"
      },
      "execution_count": 41,
      "outputs": [
        {
          "output_type": "execute_result",
          "data": {
            "text/plain": [
              "0.6"
            ]
          },
          "metadata": {},
          "execution_count": 41
        }
      ]
    },
    {
      "cell_type": "code",
      "source": [
        "import numpy as np\n",
        "from qiskit import QuantumCircuit\n",
        "from qiskit.circuit.library import XGate, YGate, ZGate\n",
        "\n",
        "def add_noise(circuit, p1, p2):\n",
        "    \"\"\"\n",
        "    Adds noise to a quantum circuit by introducing random Pauli operators\n",
        "    after one-qubit and two-qubit gates with given probabilities.\n",
        "\n",
        "    Parameters:\n",
        "    - circuit (QuantumCircuit): The quantum circuit to which noise will be added.\n",
        "    - p1 (float): Probability of adding a random Pauli gate after each one-qubit gate.\n",
        "    - p2 (float): Probability of adding a random Pauli gate after each two-qubit gate.\n",
        "\n",
        "    Returns:\n",
        "    - QuantumCircuit: A new quantum circuit with added noise.\n",
        "    \"\"\"\n",
        "\n",
        "    noisy_circuit = QuantumCircuit(circuit.num_qubits)\n",
        "\n",
        "    # Lambda function to pick a random Pauli gate\n",
        "    error_gate = [XGate(), YGate(), ZGate()]\n",
        "\n",
        "    for instruction in circuit.data:\n",
        "        gate = instruction.operation\n",
        "        qubits = [circuit.find_bit(qubit).index for qubit in instruction.qubits]\n",
        "\n",
        "        # Append the original gate to the new circuit\n",
        "        noisy_circuit.append(gate, qubits)\n",
        "\n",
        "        # Determine if noise should be added\n",
        "        if gate.num_qubits == 1:\n",
        "            # Add noise after a one-qubit gate with probability p1\n",
        "            if np.random.rand() < p1:\n",
        "                pauli_gate = np.random.choice([0,1,2])\n",
        "                noisy_circuit.append(error_gate[pauli_gate],[qubits[0]])\n",
        "\n",
        "        elif gate.num_qubits == 2:\n",
        "            # Add noise after a two-qubit gate with probability p2\n",
        "            if np.random.rand() < p2:\n",
        "                # Apply a random Pauli gate to each qubit in the two-qubit gate\n",
        "                for qubit in qubits:\n",
        "                    pauli_gate = np.random.choice([0,1,2])\n",
        "                    noisy_circuit.append(error_gate[pauli_gate], [qubit])\n",
        "\n",
        "    return noisy_circuit\n",
        "\n",
        "noisy = add_noise(qc, 0.5, 0.5)\n",
        "noisy.draw()\n"
      ],
      "metadata": {
        "colab": {
          "base_uri": "https://localhost:8080/",
          "height": 94
        },
        "id": "-G9ex0mYM94-",
        "outputId": "68cab41b-b6bb-4389-b11d-e2e6db16919e"
      },
      "execution_count": 56,
      "outputs": [
        {
          "output_type": "execute_result",
          "data": {
            "text/plain": [
              "     ┌───┐┌───┐     \n",
              "q_0: ┤ H ├┤ Z ├──■──\n",
              "     └───┘└───┘┌─┴─┐\n",
              "q_1: ──────────┤ X ├\n",
              "               └───┘"
            ],
            "text/html": [
              "<pre style=\"word-wrap: normal;white-space: pre;background: #fff0;line-height: 1.1;font-family: &quot;Courier New&quot;,Courier,monospace\">     ┌───┐┌───┐     \n",
              "q_0: ┤ H ├┤ Z ├──■──\n",
              "     └───┘└───┘┌─┴─┐\n",
              "q_1: ──────────┤ X ├\n",
              "               └───┘</pre>"
            ]
          },
          "metadata": {},
          "execution_count": 56
        }
      ]
    },
    {
      "cell_type": "code",
      "source": [
        "from qiskit import QuantumCircuit\n",
        "import numpy as np\n",
        "\n",
        "# Define a function to replace an H gate with basis gates\n",
        "def decompose_h():\n",
        "    # H gate decomposition using RZ, SX\n",
        "    decomposed_circuit = QuantumCircuit(1)\n",
        "    decomposed_circuit.rz(np.pi, 0)  # equivalent to Z gate in this context\n",
        "    decomposed_circuit.sx(0)\n",
        "    decomposed_circuit.rz(np.pi, 0)\n",
        "    return decomposed_circuit\n",
        "\n",
        "# Define a function to replace an RX gate with basis gates\n",
        "def decompose_rx(theta):\n",
        "    # RX(theta) decomposition using RZ and SX\n",
        "    decomposed_circuit = QuantumCircuit(1)\n",
        "    decomposed_circuit.rz(np.pi/2, 0)\n",
        "    decomposed_circuit.sx(0)\n",
        "    decomposed_circuit.rz(theta, 0)\n",
        "    decomposed_circuit.sx(0)\n",
        "    decomposed_circuit.rz(-np.pi/2, 0)\n",
        "    return decomposed_circuit\n",
        "\n",
        "# Define a function to replace an RY gate with basis gates\n",
        "def decompose_ry(theta):\n",
        "    # RY(theta) decomposition using RZ and SX\n",
        "    decomposed_circuit = QuantumCircuit(1)\n",
        "    decomposed_circuit.rz(np.pi, 0)\n",
        "    decomposed_circuit.sx(0)\n",
        "    decomposed_circuit.rz(theta, 0)\n",
        "    decomposed_circuit.sx(0)\n",
        "    return decomposed_circuit\n",
        "\n",
        "# Define a function to transpile a full circuit from scratch\n",
        "def custom_transpile(circuit):\n",
        "    transpiled_circuit = QuantumCircuit(circuit.num_qubits)\n",
        "\n",
        "    # Update the loop to use operation, qubits, and clbits explicitly\n",
        "    for instruction in circuit.data:\n",
        "        instr = instruction.operation\n",
        "        qargs = instruction.qubits\n",
        "        gate_name = instr.name\n",
        "\n",
        "        # Use find_bit to get the correct index for each qubit in qargs\n",
        "        qubit_index = [circuit.find_bit(qubit).index for qubit in qargs]\n",
        "\n",
        "        if gate_name == \"h\":\n",
        "            # Decompose H gate\n",
        "            decomposed_h = decompose_h()\n",
        "            transpiled_circuit.compose(decomposed_h, qubit_index, inplace=True)\n",
        "\n",
        "        elif gate_name == \"rx\":\n",
        "            # Decompose RX gate\n",
        "            theta = instr.params[0]\n",
        "            decomposed_rx = decompose_rx(theta)\n",
        "            transpiled_circuit.compose(decomposed_rx, qubit_index, inplace=True)\n",
        "\n",
        "        elif gate_name == \"ry\":\n",
        "            # Decompose RY gate\n",
        "            theta = instr.params[0]\n",
        "            decomposed_ry = decompose_ry(theta)\n",
        "            transpiled_circuit.compose(decomposed_ry, qubit_index, inplace=True)\n",
        "\n",
        "        elif gate_name == \"rz\":\n",
        "            # RZ is already a basis gate\n",
        "            transpiled_circuit.rz(instr.params[0], qubit_index[0])\n",
        "\n",
        "        elif gate_name == \"sx\":\n",
        "            # SX is already a basis gate\n",
        "            transpiled_circuit.sx(qubit_index[0])\n",
        "\n",
        "        elif gate_name == \"x\":\n",
        "            # X is already a basis gate\n",
        "            transpiled_circuit.x(qubit_index[0])\n",
        "\n",
        "        elif gate_name == \"cx\":\n",
        "            # CX is already a basis gate\n",
        "            transpiled_circuit.cx(qubit_index[0], qubit_index[1])\n",
        "\n",
        "        else:\n",
        "            raise ValueError(f\"Gate {gate_name} is not supported in the basis set.\")\n",
        "\n",
        "    return transpiled_circuit\n",
        "\n",
        "# Example circuit with a mix of gates\n",
        "qc = QuantumCircuit(2)\n",
        "qc.h(0)\n",
        "qc.cx(0, 1)\n",
        "qc.rx(np.pi/3, 1)\n",
        "qc.ry(np.pi/4, 0)\n",
        "\n",
        "print(\"Original Circuit:\")\n",
        "print(qc)\n",
        "\n",
        "# Transpile the circuit manually\n",
        "transpiled_qc = custom_transpile(qc)\n",
        "\n",
        "print(\"\\nTranspiled Circuit:\")\n",
        "print(transpiled_qc)\n"
      ],
      "metadata": {
        "colab": {
          "base_uri": "https://localhost:8080/"
        },
        "id": "NixDEiFrKbDz",
        "outputId": "8c8aae18-63cc-4eae-e2e3-3a5812b110ba"
      },
      "execution_count": 57,
      "outputs": [
        {
          "output_type": "stream",
          "name": "stdout",
          "text": [
            "Original Circuit:\n",
            "     ┌───┐     ┌─────────┐\n",
            "q_0: ┤ H ├──■──┤ Ry(π/4) ├\n",
            "     └───┘┌─┴─┐├─────────┤\n",
            "q_1: ─────┤ X ├┤ Rx(π/3) ├\n",
            "          └───┘└─────────┘\n",
            "\n",
            "Transpiled Circuit:\n",
            "     ┌───────┐┌────┐┌───────┐      ┌───────┐ ┌────┐┌─────────┐┌────┐»\n",
            "q_0: ┤ Rz(π) ├┤ √X ├┤ Rz(π) ├──■───┤ Rz(π) ├─┤ √X ├┤ Rz(π/4) ├┤ √X ├»\n",
            "     └───────┘└────┘└───────┘┌─┴─┐┌┴───────┴┐├────┤├─────────┤├────┤»\n",
            "q_1: ────────────────────────┤ X ├┤ Rz(π/2) ├┤ √X ├┤ Rz(π/3) ├┤ √X ├»\n",
            "                             └───┘└─────────┘└────┘└─────────┘└────┘»\n",
            "«                 \n",
            "«q_0: ────────────\n",
            "«     ┌──────────┐\n",
            "«q_1: ┤ Rz(-π/2) ├\n",
            "«     └──────────┘\n"
          ]
        }
      ]
    },
    {
      "cell_type": "code",
      "source": [
        "from qiskit.transpiler.preset_passmanagers import generate_preset_pass_manager"
      ],
      "metadata": {
        "id": "O6nWd7M2mttu"
      },
      "execution_count": 60,
      "outputs": []
    },
    {
      "cell_type": "code",
      "source": [
        "# Set up six different observables.\n",
        "from qiskit.quantum_info import SparsePauliOp\n",
        "\n",
        "observables_labels = [\"IZIIIIII\"]\n",
        "observables = [SparsePauliOp(label) for label in observables_labels]"
      ],
      "metadata": {
        "id": "EaObsa7BoOeI"
      },
      "execution_count": 102,
      "outputs": []
    },
    {
      "cell_type": "code",
      "source": [
        "pip install qiskit_ibm_runtime"
      ],
      "metadata": {
        "id": "b_Y0lhyImxsS"
      },
      "execution_count": null,
      "outputs": []
    },
    {
      "cell_type": "code",
      "source": [
        "from qiskit_ibm_runtime import QiskitRuntimeService\n",
        "\n",
        "# If you did not previously save your credentials, use the following line instead:\n",
        "service = QiskitRuntimeService(channel=\"ibm_quantum\", token=\"2e1b3eb3e672ac4571fddd2dc631f8876fd09fb538c9179a2e054748696c04d27851088e6ec5300cbff17e357a0f9235d0cbe16db1966947e2687c5dd4cd80dc\")\n",
        "# service = QiskitRuntimeService()\n",
        "\n",
        "backend = service.least_busy(simulator=False, operational=True)\n",
        "\n",
        "# Convert to an ISA circuit and layout-mapped observables.\n",
        "pm = generate_preset_pass_manager(backend=backend, optimization_level=1)\n",
        "isa_circuit = pm.run(qc)\n",
        "\n",
        "isa_circuit.draw(idle_wires=False)"
      ],
      "metadata": {
        "colab": {
          "base_uri": "https://localhost:8080/",
          "height": 186
        },
        "id": "Bba8An8AnIiL",
        "outputId": "5ec98fbb-a8a6-4675-a9d9-120b4f95e0a9"
      },
      "execution_count": 65,
      "outputs": [
        {
          "output_type": "execute_result",
          "data": {
            "text/plain": [
              "global phase: π/2\n",
              "          ┌────────┐ ┌────┐          ┌──────┐ ┌────────┐ ┌────┐┌─────────┐»\n",
              "q_0 -> 0 ─┤ Rz(-π) ├─┤ √X ├──────────┤1     ├─┤ Rz(-π) ├─┤ √X ├┤ Rz(π/4) ├»\n",
              "         ┌┴────────┴┐├────┤┌────────┐│  Ecr │┌┴────────┴┐├────┤├─────────┤»\n",
              "q_1 -> 1 ┤ Rz(-π/2) ├┤ √X ├┤ Rz(-π) ├┤0     ├┤ Rz(5π/6) ├┤ √X ├┤ Rz(π/2) ├»\n",
              "         └──────────┘└────┘└────────┘└──────┘└──────────┘└────┘└─────────┘»\n",
              "«         ┌────┐\n",
              "«q_0 -> 0 ┤ √X ├\n",
              "«         └────┘\n",
              "«q_1 -> 1 ──────\n",
              "«               "
            ],
            "text/html": [
              "<pre style=\"word-wrap: normal;white-space: pre;background: #fff0;line-height: 1.1;font-family: &quot;Courier New&quot;,Courier,monospace\">global phase: π/2\n",
              "          ┌────────┐ ┌────┐          ┌──────┐ ┌────────┐ ┌────┐┌─────────┐»\n",
              "q_0 -> 0 ─┤ Rz(-π) ├─┤ √X ├──────────┤1     ├─┤ Rz(-π) ├─┤ √X ├┤ Rz(π/4) ├»\n",
              "         ┌┴────────┴┐├────┤┌────────┐│  Ecr │┌┴────────┴┐├────┤├─────────┤»\n",
              "q_1 -> 1 ┤ Rz(-π/2) ├┤ √X ├┤ Rz(-π) ├┤0     ├┤ Rz(5π/6) ├┤ √X ├┤ Rz(π/2) ├»\n",
              "         └──────────┘└────┘└────────┘└──────┘└──────────┘└────┘└─────────┘»\n",
              "«         ┌────┐\n",
              "«q_0 -> 0 ┤ √X ├\n",
              "«         └────┘\n",
              "«q_1 -> 1 ──────\n",
              "«               </pre>"
            ]
          },
          "metadata": {},
          "execution_count": 65
        }
      ]
    },
    {
      "cell_type": "code",
      "source": [
        "pip install pylatexenc"
      ],
      "metadata": {
        "id": "Yden87XQngmj"
      },
      "execution_count": null,
      "outputs": []
    },
    {
      "cell_type": "code",
      "source": [
        "from qiskit import QuantumCircuit\n",
        "from qiskit.quantum_info import SparsePauliOp\n",
        "from qiskit.transpiler.preset_passmanagers import generate_preset_pass_manager\n",
        "from qiskit_ibm_runtime import EstimatorV2 as Estimator\n",
        "\n",
        "def qft(circuit, n):\n",
        "    \"\"\"Apply the Quantum Fourier Transform to the first n qubits in the circuit.\"\"\"\n",
        "    for j in range(n):\n",
        "        circuit.h(j)\n",
        "        for k in range(j + 1, n):\n",
        "            circuit.cp(np.pi / 2 ** (k - j), k, j)  # Controlled phase rotation\n",
        "\n",
        "    # Reverse qubit order to complete QFT\n",
        "    for i in range(n // 2):\n",
        "        circuit.swap(i, n - i - 1)\n",
        "\n",
        "def inverse_qft(circuit, n):\n",
        "    \"\"\"Apply the inverse Quantum Fourier Transform to the first n qubits in the circuit.\"\"\"\n",
        "    # Reverse the qubit order\n",
        "    for i in range(n // 2):\n",
        "        circuit.swap(i, n - i - 1)\n",
        "\n",
        "    # Apply inverse QFT operations\n",
        "    for j in range(n - 1, -1, -1):\n",
        "        for k in range(j - 1, -1, -1):\n",
        "            circuit.cp(-np.pi / 2 ** (j - k), j, k)  # Controlled phase rotation\n",
        "        circuit.h(j)\n",
        "\n",
        "def quantum_sum(a, b):\n",
        "    \"\"\"\n",
        "    Quantum addition of two integers using the Draper adder algorithm.\n",
        "\n",
        "    Parameters:\n",
        "    - a (int): First integer to add.\n",
        "    - b (int): Second integer to add.\n",
        "\n",
        "    Returns:\n",
        "    - QuantumCircuit: The circuit that adds a and b.\n",
        "    \"\"\"\n",
        "    # Determine the number of qubits required\n",
        "    n = max(a.bit_length(), b.bit_length()) + 1  # +1 to handle overflow\n",
        "\n",
        "    # Create a quantum circuit with 2n qubits (n for each number)\n",
        "    circuit = QuantumCircuit(2 * n)\n",
        "\n",
        "    # Initialize the qubits to represent the binary forms of a and b\n",
        "    # For number `a` in the first n qubits\n",
        "    for i in range(n):\n",
        "        if (a >> i) & 1:\n",
        "            circuit.x(i)\n",
        "\n",
        "    # For number `b` in the second n qubits\n",
        "    for i in range(n):\n",
        "        if (b >> i) & 1:\n",
        "            circuit.x(i + n)\n",
        "\n",
        "    # Apply QFT to the first register (where `a` is stored)\n",
        "    qft(circuit, n)\n",
        "\n",
        "    # Add the values of the second register (`b`) to the first register using controlled-phase gates\n",
        "    for i in range(n):\n",
        "        for j in range(i + 1):\n",
        "            if (b >> j) & 1:\n",
        "                circuit.cp(np.pi / 2 ** (i - j), j + n, i)\n",
        "\n",
        "    # Apply inverse QFT to the first register to get the sum\n",
        "    inverse_qft(circuit, n)\n",
        "\n",
        "    # Measure the result from the first n qubits\n",
        "    # circuit.measure_all()\n",
        "\n",
        "    return circuit\n",
        "\n",
        "# Example: Adding 3 + 5\n",
        "a = 3\n",
        "b = 5\n",
        "adder_circuit = quantum_sum(a, b)\n",
        "\n",
        "# # Simulate the circuit\n",
        "# simulator = Aer.get_backend('aer_simulator')\n",
        "# transpiled_circuit = transpile(adder_circuit, simulator)\n",
        "# qobj = assemble(transpiled_circuit)\n",
        "# results = simulator.run(qobj).result()\n",
        "# counts = results.get_counts()\n",
        "\n",
        "# print(\"Quantum Addition Result:\")\n",
        "# print(counts)\n"
      ],
      "metadata": {
        "id": "8UwWLQXtLhZt"
      },
      "execution_count": 71,
      "outputs": []
    },
    {
      "cell_type": "code",
      "source": [
        "from qiskit_ibm_runtime import QiskitRuntimeService\n",
        "\n",
        "# If you did not previously save your credentials, use the following line instead:\n",
        "service = QiskitRuntimeService(channel=\"ibm_quantum\", token=\"2e1b3eb3e672ac4571fddd2dc631f8876fd09fb538c9179a2e054748696c04d27851088e6ec5300cbff17e357a0f9235d0cbe16db1966947e2687c5dd4cd80dc\")\n",
        "# service = QiskitRuntimeService()\n",
        "\n",
        "backend = service.least_busy(simulator=False, operational=True)\n",
        "\n",
        "# Convert to an ISA circuit and layout-mapped observables.\n",
        "pm = generate_preset_pass_manager(backend=backend, optimization_level=3)\n",
        "isa_circuit = pm.run(adder_circuit)\n",
        "\n",
        "isa_circuit.draw(idle_wires=False)"
      ],
      "metadata": {
        "colab": {
          "base_uri": "https://localhost:8080/",
          "height": 1000
        },
        "id": "0oI5_tlwqFdI",
        "outputId": "d21d7579-fe17-45b4-8261-f14079f96b5c"
      },
      "execution_count": 108,
      "outputs": [
        {
          "output_type": "execute_result",
          "data": {
            "text/plain": [
              "global phase: 0.29452\n",
              "             ┌───┐                                                      »\n",
              "q_4 -> 56 ───┤ X ├──────────────────────────────────────────────────────»\n",
              "          ┌──┴───┴──┐                                                   »\n",
              "q_3 -> 57 ┤ Rz(π/2) ├───────────────────────────────────────────────────»\n",
              "          ├─────────┤    ┌────┐   ┌────────────┐┌──────┐                »\n",
              "q_0 -> 58 ┤ Rz(π/2) ├────┤ √X ├───┤ Rz(2.1218) ├┤0     ├────────────────»\n",
              "          └──┬───┬──┘ ┌──┴────┴──┐└────────────┘│  Ecr │┌────────┐┌────┐»\n",
              "q_1 -> 59 ───┤ X ├────┤ Rz(-π/2) ├──────────────┤1     ├┤ Rz(-π) ├┤ √X ├»\n",
              "          ┌──┴───┴───┐└──┬────┬──┘ ┌─────────┐  └──────┘└────────┘└────┘»\n",
              "q_6 -> 60 ┤ Rz(-π/2) ├───┤ √X ├────┤ Rz(π/2) ├──────────────────────────»\n",
              "          └──┬───┬───┘┌──┴────┴──┐ └─────────┘                          »\n",
              "q_2 -> 71 ───┤ X ├────┤ Rz(-π/2) ├──────────────────────────────────────»\n",
              "             └───┘    └──────────┘                                      »\n",
              "«                                                                         »\n",
              "«q_4 -> 56 ───────────────────────────────────────────────────────────────»\n",
              "«                                                                         »\n",
              "«q_3 -> 57 ───────────────────────────────────────────────────────────────»\n",
              "«                            ┌──────┐   ┌───┐   ┌────────────┐            »\n",
              "«q_0 -> 58 ──────────────────┤0     ├───┤ X ├───┤ Rz(2.9072) ├────────────»\n",
              "«          ┌──────────┐┌────┐│  Ecr │┌──┴───┴──┐└───┬────┬───┘┌──────────┐»\n",
              "«q_1 -> 59 ┤ Rz(3π/4) ├┤ √X ├┤1     ├┤ Rz(π/4) ├────┤ √X ├────┤ Rz(-π/2) ├»\n",
              "«          └──────────┘└────┘└──────┘└─────────┘    └────┘    └──────────┘»\n",
              "«q_6 -> 60 ───────────────────────────────────────────────────────────────»\n",
              "«                                                                         »\n",
              "«q_2 -> 71 ───────────────────────────────────────────────────────────────»\n",
              "«                                                                         »\n",
              "«                                                                           »\n",
              "«q_4 -> 56 ─────────────────────────────────────────────────────────────────»\n",
              "«                                                                           »\n",
              "«q_3 -> 57 ─────────────────────────────────────────────────────────────────»\n",
              "«          ┌──────┐                                  ┌──────┐     ┌───┐     »\n",
              "«q_0 -> 58 ┤0     ├──────────────────────────────────┤0     ├─────┤ X ├─────»\n",
              "«          │      │                                  │      │     └───┘     »\n",
              "«q_1 -> 59 ┤      ├──────────────────────────────────┤      ├───────────────»\n",
              "«          │  Ecr │                                  │  Ecr │               »\n",
              "«q_6 -> 60 ┤      ├──────────────────────────────────┤      ├───────────────»\n",
              "«          │      │┌────────┐┌────┐┌──────────┐┌────┐│      │┌─────────────┐»\n",
              "«q_2 -> 71 ┤1     ├┤ Rz(-π) ├┤ √X ├┤ Rz(7π/8) ├┤ √X ├┤1     ├┤ Rz(-1.6535) ├»\n",
              "«          └──────┘└────────┘└────┘└──────────┘└────┘└──────┘└─────────────┘»\n",
              "«                                                                           »\n",
              "«q_4 -> 56 ─────────────────────────────────────────────────────────────────»\n",
              "«                       ┌──────┐                                    ┌──────┐»\n",
              "«q_3 -> 57 ─────────────┤0     ├────────────────────────────────────┤0     ├»\n",
              "«          ┌───────────┐│  Ecr │┌────────┐┌────┐┌────────────┐┌────┐│  Ecr │»\n",
              "«q_0 -> 58 ┤ Rz(-3π/8) ├┤1     ├┤ Rz(-π) ├┤ √X ├┤ Rz(15π/16) ├┤ √X ├┤1     ├»\n",
              "«          └───────────┘└──────┘└────────┘└────┘└────────────┘└────┘└──────┘»\n",
              "«q_1 -> 59 ─────────────────────────────────────────────────────────────────»\n",
              "«                                                                           »\n",
              "«q_6 -> 60 ─────────────────────────────────────────────────────────────────»\n",
              "«                                                                           »\n",
              "«q_2 -> 71 ─────────────────────────────────────────────────────────────────»\n",
              "«                                                                           »\n",
              "«                                                                           »\n",
              "«q_4 -> 56 ─────────────────────────────────────────────────────────────────»\n",
              "«              ┌───┐    ┌─────────────┐                                     »\n",
              "«q_3 -> 57 ────┤ X ├────┤ Rz(-11π/16) ├─────────────────────────────────────»\n",
              "«          ┌───┴───┴───┐└────┬────┬───┘┌─────────┐┌──────┐┌──────────┐┌────┐»\n",
              "«q_0 -> 58 ┤ Rz(9π/16) ├─────┤ √X ├────┤ Rz(π/2) ├┤0     ├┤ Rz(-π/2) ├┤ √X ├»\n",
              "«          └───────────┘     └────┘    └─────────┘│  Ecr │├─────────┬┘├────┤»\n",
              "«q_1 -> 59 ───────────────────────────────────────┤1     ├┤ Rz(π/2) ├─┤ √X ├»\n",
              "«                                                 └──────┘└─────────┘ └────┘»\n",
              "«q_6 -> 60 ─────────────────────────────────────────────────────────────────»\n",
              "«                                                                           »\n",
              "«q_2 -> 71 ─────────────────────────────────────────────────────────────────»\n",
              "«                                                                           »\n",
              "«                                                                             »\n",
              "«q_4 -> 56 ───────────────────────────────────────────────────────────────────»\n",
              "«                                                                             »\n",
              "«q_3 -> 57 ───────────────────────────────────────────────────────────────────»\n",
              "«          ┌────────┐┌──────┐┌─────────┐ ┌────┐┌─────────┐┌──────┐   ┌───┐    »\n",
              "«q_0 -> 58 ┤ Rz(-π) ├┤0     ├┤ Rz(π/2) ├─┤ √X ├┤ Rz(π/2) ├┤0     ├───┤ X ├────»\n",
              "«          └────────┘│  Ecr │├─────────┴┐└────┘└─────────┘│  Ecr │┌──┴───┴───┐»\n",
              "«q_1 -> 59 ──────────┤1     ├┤ Rz(-π/2) ├─────────────────┤1     ├┤ Rz(-π/2) ├»\n",
              "«                    └──────┘└──────────┘                 └──────┘└──────────┘»\n",
              "«q_6 -> 60 ───────────────────────────────────────────────────────────────────»\n",
              "«                                                                             »\n",
              "«q_2 -> 71 ───────────────────────────────────────────────────────────────────»\n",
              "«                                                                             »\n",
              "«                                                                       »\n",
              "«q_4 -> 56 ─────────────────────────────────────────────────────────────»\n",
              "«                                                                       »\n",
              "«q_3 -> 57 ─────────────────────────────────────────────────────────────»\n",
              "«          ┌─────────┐┌──────┐                                  ┌──────┐»\n",
              "«q_0 -> 58 ┤ Rz(π/2) ├┤0     ├──────────────────────────────────┤0     ├»\n",
              "«          └──┬────┬─┘│      │                                  │      │»\n",
              "«q_1 -> 59 ───┤ √X ├──┤      ├──────────────────────────────────┤      ├»\n",
              "«             └────┘  │  Ecr │                                  │  Ecr │»\n",
              "«q_6 -> 60 ───────────┤      ├──────────────────────────────────┤      ├»\n",
              "«                     │      │┌────────┐┌────┐┌──────────┐┌────┐│      │»\n",
              "«q_2 -> 71 ───────────┤1     ├┤ Rz(-π) ├┤ √X ├┤ Rz(3π/4) ├┤ √X ├┤1     ├»\n",
              "«                     └──────┘└────────┘└────┘└──────────┘└────┘└──────┘»\n",
              "«                                                                            »\n",
              "«q_4 -> 56 ──────────────────────────────────────────────────────────────────»\n",
              "«                         ┌──────┐                                   ┌──────┐»\n",
              "«q_3 -> 57 ───────────────┤0     ├───────────────────────────────────┤0     ├»\n",
              "«           ┌───────────┐ │  Ecr │ ┌────────┐┌────┐┌──────────┐┌────┐│  Ecr │»\n",
              "«q_0 -> 58 ─┤ Rz(-3π/4) ├─┤1     ├─┤ Rz(-π) ├┤ √X ├┤ Rz(7π/8) ├┤ √X ├┤1     ├»\n",
              "«           └───────────┘ └──────┘ └────────┘└────┘└──────────┘└────┘└──────┘»\n",
              "«q_1 -> 59 ──────────────────────────────────────────────────────────────────»\n",
              "«                                                                            »\n",
              "«q_6 -> 60 ──────────────────────────────────────────────────────────────────»\n",
              "«          ┌─────────────┐ ┌────┐ ┌─────────┐                                »\n",
              "«q_2 -> 71 ┤ Rz(0.47544) ├─┤ √X ├─┤ Rz(π/2) ├────────────────────────────────»\n",
              "«          └─────────────┘ └────┘ └─────────┘                                »\n",
              "«                                                                             »\n",
              "«q_4 -> 56 ───────────────────────────────────────────────────────────────────»\n",
              "«           ┌──────────┐                                                      »\n",
              "«q_3 -> 57 ─┤ Rz(-π/4) ├──────────────────────────────────────────────────────»\n",
              "«          ┌┴──────────┤┌────┐┌──────────┐┌──────┐┌──────────┐┌────┐┌────────┐»\n",
              "«q_0 -> 58 ┤ Rz(-5π/8) ├┤ √X ├┤ Rz(-π/2) ├┤0     ├┤ Rz(-π/2) ├┤ √X ├┤ Rz(-π) ├»\n",
              "«          └───────────┘└────┘└──────────┘│      │└──────────┘└────┘└────────┘»\n",
              "«q_1 -> 59 ───────────────────────────────┤      ├────────────────────────────»\n",
              "«                                         │  Ecr │                            »\n",
              "«q_6 -> 60 ───────────────────────────────┤      ├────────────────────────────»\n",
              "«                                         │      │┌─────────┐ ┌────┐          »\n",
              "«q_2 -> 71 ───────────────────────────────┤1     ├┤ Rz(π/2) ├─┤ √X ├──────────»\n",
              "«                                         └──────┘└─────────┘ └────┘          »\n",
              "«                                                                     »\n",
              "«q_4 -> 56 ───────────────────────────────────────────────────────────»\n",
              "«                                                             ┌──────┐»\n",
              "«q_3 -> 57 ───────────────────────────────────────────────────┤0     ├»\n",
              "«          ┌──────┐┌─────────┐ ┌────┐┌─────────┐┌──────┐┌───┐ │  Ecr │»\n",
              "«q_0 -> 58 ┤0     ├┤ Rz(π/2) ├─┤ √X ├┤ Rz(π/2) ├┤0     ├┤ X ├─┤1     ├»\n",
              "«          │      │└─────────┘ └────┘└─────────┘│      │└───┘ └──────┘»\n",
              "«q_1 -> 59 ┤      ├─────────────────────────────┤      ├──────────────»\n",
              "«          │  Ecr │                             │  Ecr │              »\n",
              "«q_6 -> 60 ┤      ├─────────────────────────────┤      ├──────────────»\n",
              "«          │      │┌──────────┐                 │      │┌────┐        »\n",
              "«q_2 -> 71 ┤1     ├┤ Rz(-π/2) ├─────────────────┤1     ├┤ √X ├────────»\n",
              "«          └──────┘└──────────┘                 └──────┘└────┘        »\n",
              "«                                                                 ┌──────┐»\n",
              "«q_4 -> 56 ───────────────────────────────────────────────────────┤0     ├»\n",
              "«                                            ┌──────┐  ┌────────┐ │  Ecr │»\n",
              "«q_3 -> 57 ──────────────────────────────────┤0     ├──┤ Rz(-π) ├─┤1     ├»\n",
              "«          ┌────────┐┌────┐┌──────────┐┌────┐│  Ecr │┌─┴────────┴┐└──────┘»\n",
              "«q_0 -> 58 ┤ Rz(-π) ├┤ √X ├┤ Rz(3π/4) ├┤ √X ├┤1     ├┤ Rz(-3π/4) ├────────»\n",
              "«          └────────┘└────┘└──────────┘└────┘└──────┘└───────────┘        »\n",
              "«q_1 -> 59 ───────────────────────────────────────────────────────────────»\n",
              "«                                                                         »\n",
              "«q_6 -> 60 ───────────────────────────────────────────────────────────────»\n",
              "«                                                                         »\n",
              "«q_2 -> 71 ───────────────────────────────────────────────────────────────»\n",
              "«                                                                         »\n",
              "«          ┌───────────┐                                                      »\n",
              "«q_4 -> 56 ┤ Rz(-3π/4) ├──────────────────────────────────────────────────────»\n",
              "«          └──┬──────┬─┘┌──────────┐┌────┐┌────────┐┌──────┐┌─────────┐ ┌────┐»\n",
              "«q_3 -> 57 ───┤0     ├──┤ Rz(-π/2) ├┤ √X ├┤ Rz(-π) ├┤0     ├┤ Rz(π/2) ├─┤ √X ├»\n",
              "«             │  Ecr │  ├─────────┬┘├────┤└────────┘│  Ecr │├─────────┴┐└────┘»\n",
              "«q_0 -> 58 ───┤1     ├──┤ Rz(π/2) ├─┤ √X ├──────────┤1     ├┤ Rz(-π/2) ├──────»\n",
              "«             └──────┘  └─────────┘ └────┘          └──────┘└──────────┘      »\n",
              "«q_1 -> 59 ───────────────────────────────────────────────────────────────────»\n",
              "«                                                                             »\n",
              "«q_6 -> 60 ───────────────────────────────────────────────────────────────────»\n",
              "«                                                                             »\n",
              "«q_2 -> 71 ───────────────────────────────────────────────────────────────────»\n",
              "«                                                                             »\n",
              "«                                      ┌──────┐                               »\n",
              "«q_4 -> 56 ────────────────────────────┤0     ├───────────────────────────────»\n",
              "«          ┌─────────┐┌──────┐┌───┐    │  Ecr │   ┌────────┐┌────┐┌──────────┐»\n",
              "«q_3 -> 57 ┤ Rz(π/2) ├┤0     ├┤ X ├────┤1     ├───┤ Rz(-π) ├┤ √X ├┤ Rz(3π/4) ├»\n",
              "«          └─────────┘│  Ecr │├───┴┐┌──┴──────┴──┐└────────┘└────┘└──────────┘»\n",
              "«q_0 -> 58 ───────────┤1     ├┤ √X ├┤ Rz(2.4941) ├────────────────────────────»\n",
              "«                     └──────┘└────┘└────────────┘                            »\n",
              "«q_1 -> 59 ───────────────────────────────────────────────────────────────────»\n",
              "«                                                                             »\n",
              "«q_6 -> 60 ───────────────────────────────────────────────────────────────────»\n",
              "«                                                                             »\n",
              "«q_2 -> 71 ───────────────────────────────────────────────────────────────────»\n",
              "«                                                                             »\n",
              "«                ┌──────┐┌────┐ ┌────────┐                                     »\n",
              "«q_4 -> 56 ──────┤0     ├┤ √X ├─┤ Rz(-π) ├─────────────────────────────────────»\n",
              "«          ┌────┐│  Ecr │├───┬┘┌┴────────┴┐┌──────┐                            »\n",
              "«q_3 -> 57 ┤ √X ├┤1     ├┤ X ├─┤ Rz(3π/4) ├┤0     ├────────────────────────────»\n",
              "«          └────┘└──────┘└───┘ └──────────┘│  Ecr │┌────────┐┌────┐┌──────────┐»\n",
              "«q_0 -> 58 ────────────────────────────────┤1     ├┤ Rz(-π) ├┤ √X ├┤ Rz(3π/4) ├»\n",
              "«                                          └──────┘└────────┘└────┘└──────────┘»\n",
              "«q_1 -> 59 ────────────────────────────────────────────────────────────────────»\n",
              "«                                                                              »\n",
              "«q_6 -> 60 ────────────────────────────────────────────────────────────────────»\n",
              "«                                                                              »\n",
              "«q_2 -> 71 ────────────────────────────────────────────────────────────────────»\n",
              "«                                                                              »\n",
              "«                                                         ┌──────┐┌──────────┐»\n",
              "«q_4 -> 56 ───────────────────────────────────────────────┤0     ├┤ Rz(-π/2) ├»\n",
              "«                ┌──────┐ ┌───────────┐ ┌────┐┌──────────┐│  Ecr │├─────────┬┘»\n",
              "«q_3 -> 57 ──────┤0     ├─┤ Rz(-3π/4) ├─┤ √X ├┤ Rz(-π/2) ├┤1     ├┤ Rz(π/2) ├─»\n",
              "«          ┌────┐│  Ecr │┌┴───────────┴┐├────┤├──────────┤├──────┤├─────────┴┐»\n",
              "«q_0 -> 58 ┤ √X ├┤1     ├┤ Rz(-1.7087) ├┤ √X ├┤ Rz(-π/2) ├┤0     ├┤ Rz(-π/2) ├»\n",
              "«          └────┘└──────┘└─────────────┘└────┘└──────────┘│      │└──────────┘»\n",
              "«q_1 -> 59 ───────────────────────────────────────────────┤      ├────────────»\n",
              "«                                                         │  Ecr │            »\n",
              "«q_6 -> 60 ───────────────────────────────────────────────┤      ├────────────»\n",
              "«                                                         │      │┌─────────┐ »\n",
              "«q_2 -> 71 ───────────────────────────────────────────────┤1     ├┤ Rz(π/2) ├─»\n",
              "«                                                         └──────┘└─────────┘ »\n",
              "«          ┌────┐┌────────┐┌──────┐┌─────────┐ ┌────┐┌─────────┐┌──────┐»\n",
              "«q_4 -> 56 ┤ √X ├┤ Rz(-π) ├┤0     ├┤ Rz(π/2) ├─┤ √X ├┤ Rz(π/2) ├┤0     ├»\n",
              "«          ├────┤└────────┘│  Ecr │├─────────┴┐└────┘└─────────┘│  Ecr │»\n",
              "«q_3 -> 57 ┤ √X ├──────────┤1     ├┤ Rz(-π/2) ├─────────────────┤1     ├»\n",
              "«          ├────┤┌────────┐├──────┤├─────────┬┘┌────┐┌─────────┐├──────┤»\n",
              "«q_0 -> 58 ┤ √X ├┤ Rz(-π) ├┤0     ├┤ Rz(π/2) ├─┤ √X ├┤ Rz(π/2) ├┤0     ├»\n",
              "«          └────┘└────────┘│      │└─────────┘ └────┘└─────────┘│      │»\n",
              "«q_1 -> 59 ────────────────┤      ├─────────────────────────────┤      ├»\n",
              "«                          │  Ecr │                             │  Ecr │»\n",
              "«q_6 -> 60 ────────────────┤      ├─────────────────────────────┤      ├»\n",
              "«          ┌────┐          │      │┌──────────┐                 │      │»\n",
              "«q_2 -> 71 ┤ √X ├──────────┤1     ├┤ Rz(-π/2) ├─────────────────┤1     ├»\n",
              "«          └────┘          └──────┘└──────────┘                 └──────┘»\n",
              "«          ┌──────────┐     ┌────┐     ┌──────────┐                    »\n",
              "«q_4 -> 56 ┤ Rz(-π/2) ├─────┤ √X ├─────┤ Rz(-π/2) ├────────────────────»\n",
              "«          ├─────────┬┘     ├────┤    ┌┴──────────┤┌──────┐   ┌───┐    »\n",
              "«q_3 -> 57 ┤ Rz(π/2) ├──────┤ √X ├────┤ Rz(-3π/8) ├┤0     ├───┤ X ├────»\n",
              "«          ├─────────┤      ├────┤    └─┬────────┬┘│  Ecr │┌──┴───┴───┐»\n",
              "«q_0 -> 58 ┤ Rz(π/2) ├──────┤ √X ├──────┤ Rz(-π) ├─┤1     ├┤ Rz(7π/8) ├»\n",
              "«          └─────────┘      └────┘      └────────┘ └──────┘└──────────┘»\n",
              "«q_1 -> 59 ────────────────────────────────────────────────────────────»\n",
              "«                                                                      »\n",
              "«q_6 -> 60 ────────────────────────────────────────────────────────────»\n",
              "«             ┌────┐   ┌─────────────┐                                 »\n",
              "«q_2 -> 71 ───┤ √X ├───┤ Rz(-2.5316) ├─────────────────────────────────»\n",
              "«             └────┘   └─────────────┘                                 »\n",
              "«                                                                         »\n",
              "«q_4 -> 56 ───────────────────────────────────────────────────────────────»\n",
              "«          ┌──────────┐          ┌──────┐   ┌───┐   ┌────────────┐        »\n",
              "«q_3 -> 57 ┤ Rz(-π/2) ├──────────┤0     ├───┤ X ├───┤ Rz(-7π/16) ├────────»\n",
              "«          └──┬────┬──┘┌────────┐│  Ecr │┌──┴───┴──┐└───┬────┬───┘┌──────┐»\n",
              "«q_0 -> 58 ───┤ √X ├───┤ Rz(-π) ├┤1     ├┤ Rz(π/8) ├────┤ √X ├────┤0     ├»\n",
              "«             └────┘   └────────┘└──────┘└─────────┘    └────┘    │  Ecr │»\n",
              "«q_1 -> 59 ───────────────────────────────────────────────────────┤1     ├»\n",
              "«                                                                 └──────┘»\n",
              "«q_6 -> 60 ───────────────────────────────────────────────────────────────»\n",
              "«                                                                         »\n",
              "«q_2 -> 71 ───────────────────────────────────────────────────────────────»\n",
              "«                                                                         »\n",
              "«                                                                           »\n",
              "«q_4 -> 56 ─────────────────────────────────────────────────────────────────»\n",
              "«                                                                           »\n",
              "«q_3 -> 57 ─────────────────────────────────────────────────────────────────»\n",
              "«          ┌──────────┐┌────┐┌────────┐┌──────┐┌─────────┐ ┌────┐┌─────────┐»\n",
              "«q_0 -> 58 ┤ Rz(-π/2) ├┤ √X ├┤ Rz(-π) ├┤0     ├┤ Rz(π/2) ├─┤ √X ├┤ Rz(π/2) ├»\n",
              "«          ├─────────┬┘├────┤└────────┘│  Ecr │├─────────┴┐└────┘└─────────┘»\n",
              "«q_1 -> 59 ┤ Rz(π/2) ├─┤ √X ├──────────┤1     ├┤ Rz(-π/2) ├─────────────────»\n",
              "«          └─────────┘ └────┘          └──────┘└──────────┘                 »\n",
              "«q_6 -> 60 ─────────────────────────────────────────────────────────────────»\n",
              "«                                                                           »\n",
              "«q_2 -> 71 ─────────────────────────────────────────────────────────────────»\n",
              "«                                                                           »\n",
              "«                                                                     »\n",
              "«q_4 -> 56 ───────────────────────────────────────────────────────────»\n",
              "«                                               ┌──────┐    ┌───┐     »\n",
              "«q_3 -> 57 ─────────────────────────────────────┤0     ├────┤ X ├─────»\n",
              "«          ┌──────┐┌─────────┐┌────┐┌──────────┐│  Ecr │┌───┴───┴────┐»\n",
              "«q_0 -> 58 ┤0     ├┤ Rz(π/2) ├┤ √X ├┤ Rz(-π/2) ├┤1     ├┤ Rz(15π/16) ├»\n",
              "«          │  Ecr │├─────────┤├────┤├─────────┬┘├──────┤└┬─────────┬─┘»\n",
              "«q_1 -> 59 ┤1     ├┤ Rz(π/2) ├┤ √X ├┤ Rz(π/2) ├─┤0     ├─┤ Rz(π/2) ├──»\n",
              "«          └──────┘└─────────┘└────┘└─────────┘ │  Ecr │ ├─────────┴┐ »\n",
              "«q_6 -> 60 ─────────────────────────────────────┤1     ├─┤ Rz(-π/2) ├─»\n",
              "«                                               └──────┘ └──────────┘ »\n",
              "«q_2 -> 71 ───────────────────────────────────────────────────────────»\n",
              "«                                                                     »\n",
              "«                                                                        »\n",
              "«q_4 -> 56 ──────────────────────────────────────────────────────────────»\n",
              "«          ┌──────────┐             ┌──────┐┌─────────┐ ┌────┐┌─────────┐»\n",
              "«q_3 -> 57 ┤ Rz(-π/2) ├─────────────┤0     ├┤ Rz(π/2) ├─┤ √X ├┤ Rz(π/2) ├»\n",
              "«          └──┬────┬──┘  ┌────────┐ │  Ecr │├─────────┴┐├────┤└─┬──────┬┘»\n",
              "«q_0 -> 58 ───┤ √X ├─────┤ Rz(-π) ├─┤1     ├┤ Rz(π/16) ├┤ √X ├──┤0     ├─»\n",
              "«             ├────┤    ┌┴────────┤ └──────┘└──────────┘└────┘  │  Ecr │ »\n",
              "«q_1 -> 59 ───┤ √X ├────┤ Rz(π/2) ├─────────────────────────────┤1     ├─»\n",
              "«             ├────┤   ┌┴─────────┴┐                            └──────┘ »\n",
              "«q_6 -> 60 ───┤ √X ├───┤ Rz(1.492) ├─────────────────────────────────────»\n",
              "«             └────┘   └───────────┘                                     »\n",
              "«q_2 -> 71 ──────────────────────────────────────────────────────────────»\n",
              "«                                                                        »\n",
              "«            ┌──────┐  ┌──────────┐  ┌────┐  ┌────────┐  ┌──────┐  ┌─────────┐ »\n",
              "«q_4 -> 56 ──┤0     ├──┤ Rz(-π/2) ├──┤ √X ├──┤ Rz(-π) ├──┤0     ├──┤ Rz(π/2) ├─»\n",
              "«            │  Ecr │  ├─────────┬┘  ├────┤  └────────┘  │  Ecr │  ├─────────┴┐»\n",
              "«q_3 -> 57 ──┤1     ├──┤ Rz(π/2) ├───┤ √X ├──────────────┤1     ├──┤ Rz(-π/2) ├»\n",
              "«          ┌─┴──────┴─┐└──┬────┬─┘ ┌─┴────┴─┐ ┌──────┐ ┌─┴──────┴┐ └──┬────┬──┘»\n",
              "«q_0 -> 58 ┤ Rz(-π/2) ├───┤ √X ├───┤ Rz(-π) ├─┤0     ├─┤ Rz(π/2) ├────┤ √X ├───»\n",
              "«          ├─────────┬┘   ├────┤   └────────┘ │  Ecr │ ├─────────┴┐   └────┘   »\n",
              "«q_1 -> 59 ┤ Rz(π/2) ├────┤ √X ├──────────────┤1     ├─┤ Rz(-π/2) ├────────────»\n",
              "«          └─────────┘    └────┘              └──────┘ └──────────┘            »\n",
              "«q_6 -> 60 ────────────────────────────────────────────────────────────────────»\n",
              "«                                                                              »\n",
              "«q_2 -> 71 ────────────────────────────────────────────────────────────────────»\n",
              "«                                                                              »\n",
              "«             ┌────┐  ┌─────────┐  ┌──────┐    ┌────┐   ┌──────────┐           »\n",
              "«q_4 -> 56 ───┤ √X ├──┤ Rz(π/2) ├──┤0     ├────┤ √X ├───┤ Rz(-π/2) ├───────────»\n",
              "«             └────┘  └─────────┘  │  Ecr │ ┌──┴────┴──┐└──┬────┬──┘┌─────────┐»\n",
              "«q_3 -> 57 ────────────────────────┤1     ├─┤ Rz(-π/2) ├───┤ √X ├───┤ Rz(π/4) ├»\n",
              "«          ┌─────────┐  ┌──────┐   └┬────┬┘ ├─────────┬┘   └────┘   └─┬──────┬┘»\n",
              "«q_0 -> 58 ┤ Rz(π/2) ├──┤0     ├────┤ √X ├──┤ Rz(π/2) ├───────────────┤0     ├─»\n",
              "«          └─────────┘  │  Ecr │ ┌──┴────┴─┐└──┬────┬─┘  ┌────────┐   │      │ »\n",
              "«q_1 -> 59 ─────────────┤1     ├─┤ Rz(π/2) ├───┤ √X ├────┤ Rz(-π) ├───┤      ├─»\n",
              "«                       └──────┘ └─────────┘   └────┘    └────────┘   │  Ecr │ »\n",
              "«q_6 -> 60 ───────────────────────────────────────────────────────────┤      ├─»\n",
              "«                                                                     │      │ »\n",
              "«q_2 -> 71 ───────────────────────────────────────────────────────────┤1     ├─»\n",
              "«                                                                     └──────┘ »\n",
              "«                                                                    »\n",
              "«q_4 -> 56 ──────────────────────────────────────────────────────────»\n",
              "«                                                                    »\n",
              "«q_3 -> 57 ──────────────────────────────────────────────────────────»\n",
              "«                                                            ┌──────┐»\n",
              "«q_0 -> 58 ──────────────────────────────────────────────────┤0     ├»\n",
              "«           ┌──────┐                                         │      │»\n",
              "«q_1 -> 59 ─┤0     ├─────────────────────────────────────────┤      ├»\n",
              "«           │  Ecr │ ┌────────┐   ┌────┐   ┌──────────┐┌────┐│  Ecr │»\n",
              "«q_6 -> 60 ─┤1     ├─┤ Rz(-π) ├───┤ √X ├───┤ Rz(3π/4) ├┤ √X ├┤      ├»\n",
              "«          ┌┴──────┴┐└─┬────┬─┘┌──┴────┴──┐└──┬────┬──┘└────┘│      │»\n",
              "«q_2 -> 71 ┤ Rz(-π) ├──┤ √X ├──┤ Rz(7π/8) ├───┤ √X ├─────────┤1     ├»\n",
              "«          └────────┘  └────┘  └──────────┘   └────┘         └──────┘»\n",
              "«                                                                            »\n",
              "«q_4 -> 56 ──────────────────────────────────────────────────────────────────»\n",
              "«                            ┌──────┐                                        »\n",
              "«q_3 -> 57 ──────────────────┤0     ├────────────────────────────────────────»\n",
              "«           ┌──────────┐     │  Ecr │     ┌────────┐ ┌────┐┌──────────┐┌────┐»\n",
              "«q_0 -> 58 ─┤ Rz(3π/8) ├─────┤1     ├─────┤ Rz(-π) ├─┤ √X ├┤ Rz(3π/4) ├┤ √X ├»\n",
              "«           └─┬──────┬─┘     └┬───┬─┘    ┌┴────────┴┐└────┘└──────────┘└────┘»\n",
              "«q_1 -> 59 ───┤0     ├────────┤ X ├──────┤ Rz(-π/4) ├────────────────────────»\n",
              "«             │  Ecr │   ┌────┴───┴─────┐└──────────┘                        »\n",
              "«q_6 -> 60 ───┤1     ├───┤ Rz(-0.70655) ├────────────────────────────────────»\n",
              "«          ┌──┴──────┴──┐└──────────────┘                                    »\n",
              "«q_2 -> 71 ┤ Rz(2.8047) ├────────────────────────────────────────────────────»\n",
              "«          └────────────┘                                                    »\n",
              "«                                                                        »\n",
              "«q_4 -> 56 ──────────────────────────────────────────────────────────────»\n",
              "«          ┌──────┐┌─────────┐                                           »\n",
              "«q_3 -> 57 ┤0     ├┤ Rz(π/8) ├───────────────────────────────────────────»\n",
              "«          │  Ecr │├─────────┤┌────┐┌─────────┐┌──────┐┌──────────┐┌────┐»\n",
              "«q_0 -> 58 ┤1     ├┤ Rz(π/4) ├┤ √X ├┤ Rz(π/2) ├┤0     ├┤ Rz(-π/2) ├┤ √X ├»\n",
              "«          └──────┘└─────────┘└────┘└─────────┘│  Ecr │├─────────┬┘├────┤»\n",
              "«q_1 -> 59 ────────────────────────────────────┤1     ├┤ Rz(π/2) ├─┤ √X ├»\n",
              "«                                              └──────┘└─────────┘ └────┘»\n",
              "«q_6 -> 60 ──────────────────────────────────────────────────────────────»\n",
              "«                                                                        »\n",
              "«q_2 -> 71 ──────────────────────────────────────────────────────────────»\n",
              "«                                                                        »\n",
              "«                                                                            »\n",
              "«q_4 -> 56 ──────────────────────────────────────────────────────────────────»\n",
              "«                                                                            »\n",
              "«q_3 -> 57 ──────────────────────────────────────────────────────────────────»\n",
              "«          ┌────────┐┌──────┐┌─────────┐ ┌────┐┌─────────┐┌──────┐┌─────────┐»\n",
              "«q_0 -> 58 ┤ Rz(-π) ├┤0     ├┤ Rz(π/2) ├─┤ √X ├┤ Rz(π/2) ├┤0     ├┤ Rz(π/2) ├»\n",
              "«          └────────┘│  Ecr │├─────────┴┐└────┘└─────────┘│  Ecr │└──┬────┬─┘»\n",
              "«q_1 -> 59 ──────────┤1     ├┤ Rz(-π/2) ├─────────────────┤1     ├───┤ √X ├──»\n",
              "«                    └──────┘└──────────┘                 └──────┘   └────┘  »\n",
              "«q_6 -> 60 ──────────────────────────────────────────────────────────────────»\n",
              "«                                                                            »\n",
              "«q_2 -> 71 ──────────────────────────────────────────────────────────────────»\n",
              "«                                                                            »\n",
              "«                                                                             »\n",
              "«q_4 -> 56 ───────────────────────────────────────────────────────────────────»\n",
              "«                                                                             »\n",
              "«q_3 -> 57 ───────────────────────────────────────────────────────────────────»\n",
              "«                         ┌──────┐                                    ┌──────┐»\n",
              "«q_0 -> 58 ───────────────┤0     ├────────────────────────────────────┤0     ├»\n",
              "«          ┌─────────────┐│      │                                    │      │»\n",
              "«q_1 -> 59 ┤ Rz(-3.0781) ├┤      ├────────────────────────────────────┤      ├»\n",
              "«          └─────────────┘│  Ecr │                                    │  Ecr │»\n",
              "«q_6 -> 60 ───────────────┤      ├────────────────────────────────────┤      ├»\n",
              "«                         │      │┌────────┐┌────┐┌────────────┐┌────┐│      │»\n",
              "«q_2 -> 71 ───────────────┤1     ├┤ Rz(-π) ├┤ √X ├┤ Rz(15π/16) ├┤ √X ├┤1     ├»\n",
              "«                         └──────┘└────────┘└────┘└────────────┘└────┘└──────┘»\n",
              "«                                                                             »\n",
              "«q_4 -> 56 ───────────────────────────────────────────────────────────────────»\n",
              "«                         ┌──────┐                                    ┌──────┐»\n",
              "«q_3 -> 57 ───────────────┤0     ├────────────────────────────────────┤0     ├»\n",
              "«           ┌───────────┐ │  Ecr │ ┌────────┐ ┌────┐┌──────────┐┌────┐│  Ecr │»\n",
              "«q_0 -> 58 ─┤ Rz(7π/16) ├─┤1     ├─┤ Rz(-π) ├─┤ √X ├┤ Rz(7π/8) ├┤ √X ├┤1     ├»\n",
              "«           └───────────┘ └──────┘ └────────┘ └────┘└──────────┘└────┘└──────┘»\n",
              "«q_1 -> 59 ───────────────────────────────────────────────────────────────────»\n",
              "«                                                                             »\n",
              "«q_6 -> 60 ───────────────────────────────────────────────────────────────────»\n",
              "«          ┌─────────────┐ ┌────┐ ┌──────────┐                                »\n",
              "«q_2 -> 71 ┤ Rz(-1.2548) ├─┤ √X ├─┤ Rz(-π/2) ├────────────────────────────────»\n",
              "«          └─────────────┘ └────┘ └──────────┘                                »\n",
              "«                                                                           »\n",
              "«q_4 -> 56 ─────────────────────────────────────────────────────────────────»\n",
              "«           ┌──────────┐ ┌────┐ ┌──────────┐                                »\n",
              "«q_3 -> 57 ─┤ Rz(-π/2) ├─┤ √X ├─┤ Rz(-π/2) ├────────────────────────────────»\n",
              "«          ┌┴──────────┤┌┴────┴┐└──────────┘                        ┌──────┐»\n",
              "«q_0 -> 58 ┤ Rz(-5π/8) ├┤0     ├────────────────────────────────────┤0     ├»\n",
              "«          └───────────┘│  Ecr │ ┌────────┐ ┌────┐┌──────────┐┌────┐│  Ecr │»\n",
              "«q_1 -> 59 ─────────────┤1     ├─┤ Rz(-π) ├─┤ √X ├┤ Rz(3π/4) ├┤ √X ├┤1     ├»\n",
              "«                       └──────┘ └────────┘ └────┘└──────────┘└────┘└──────┘»\n",
              "«q_6 -> 60 ─────────────────────────────────────────────────────────────────»\n",
              "«                                                                           »\n",
              "«q_2 -> 71 ─────────────────────────────────────────────────────────────────»\n",
              "«                                                                           »\n",
              "«                                          \n",
              "«q_4 -> 56 ────────────────────────────────\n",
              "«                                          \n",
              "«q_3 -> 57 ────────────────────────────────\n",
              "«          ┌───────────┐ ┌────┐┌─────────┐ \n",
              "«q_0 -> 58 ┤ Rz(-3π/4) ├─┤ √X ├┤ Rz(π/2) ├─\n",
              "«          ├───────────┴┐├────┤├─────────┴┐\n",
              "«q_1 -> 59 ┤ Rz(2.2927) ├┤ √X ├┤ Rz(-π/2) ├\n",
              "«          └────────────┘└────┘└──────────┘\n",
              "«q_6 -> 60 ────────────────────────────────\n",
              "«                                          \n",
              "«q_2 -> 71 ────────────────────────────────\n",
              "«                                          "
            ],
            "text/html": [
              "<pre style=\"word-wrap: normal;white-space: pre;background: #fff0;line-height: 1.1;font-family: &quot;Courier New&quot;,Courier,monospace\">global phase: 0.29452\n",
              "             ┌───┐                                                      »\n",
              "q_4 -> 56 ───┤ X ├──────────────────────────────────────────────────────»\n",
              "          ┌──┴───┴──┐                                                   »\n",
              "q_3 -> 57 ┤ Rz(π/2) ├───────────────────────────────────────────────────»\n",
              "          ├─────────┤    ┌────┐   ┌────────────┐┌──────┐                »\n",
              "q_0 -> 58 ┤ Rz(π/2) ├────┤ √X ├───┤ Rz(2.1218) ├┤0     ├────────────────»\n",
              "          └──┬───┬──┘ ┌──┴────┴──┐└────────────┘│  Ecr │┌────────┐┌────┐»\n",
              "q_1 -> 59 ───┤ X ├────┤ Rz(-π/2) ├──────────────┤1     ├┤ Rz(-π) ├┤ √X ├»\n",
              "          ┌──┴───┴───┐└──┬────┬──┘ ┌─────────┐  └──────┘└────────┘└────┘»\n",
              "q_6 -> 60 ┤ Rz(-π/2) ├───┤ √X ├────┤ Rz(π/2) ├──────────────────────────»\n",
              "          └──┬───┬───┘┌──┴────┴──┐ └─────────┘                          »\n",
              "q_2 -> 71 ───┤ X ├────┤ Rz(-π/2) ├──────────────────────────────────────»\n",
              "             └───┘    └──────────┘                                      »\n",
              "«                                                                         »\n",
              "«q_4 -> 56 ───────────────────────────────────────────────────────────────»\n",
              "«                                                                         »\n",
              "«q_3 -> 57 ───────────────────────────────────────────────────────────────»\n",
              "«                            ┌──────┐   ┌───┐   ┌────────────┐            »\n",
              "«q_0 -> 58 ──────────────────┤0     ├───┤ X ├───┤ Rz(2.9072) ├────────────»\n",
              "«          ┌──────────┐┌────┐│  Ecr │┌──┴───┴──┐└───┬────┬───┘┌──────────┐»\n",
              "«q_1 -> 59 ┤ Rz(3π/4) ├┤ √X ├┤1     ├┤ Rz(π/4) ├────┤ √X ├────┤ Rz(-π/2) ├»\n",
              "«          └──────────┘└────┘└──────┘└─────────┘    └────┘    └──────────┘»\n",
              "«q_6 -> 60 ───────────────────────────────────────────────────────────────»\n",
              "«                                                                         »\n",
              "«q_2 -> 71 ───────────────────────────────────────────────────────────────»\n",
              "«                                                                         »\n",
              "«                                                                           »\n",
              "«q_4 -> 56 ─────────────────────────────────────────────────────────────────»\n",
              "«                                                                           »\n",
              "«q_3 -> 57 ─────────────────────────────────────────────────────────────────»\n",
              "«          ┌──────┐                                  ┌──────┐     ┌───┐     »\n",
              "«q_0 -> 58 ┤0     ├──────────────────────────────────┤0     ├─────┤ X ├─────»\n",
              "«          │      │                                  │      │     └───┘     »\n",
              "«q_1 -> 59 ┤      ├──────────────────────────────────┤      ├───────────────»\n",
              "«          │  Ecr │                                  │  Ecr │               »\n",
              "«q_6 -> 60 ┤      ├──────────────────────────────────┤      ├───────────────»\n",
              "«          │      │┌────────┐┌────┐┌──────────┐┌────┐│      │┌─────────────┐»\n",
              "«q_2 -> 71 ┤1     ├┤ Rz(-π) ├┤ √X ├┤ Rz(7π/8) ├┤ √X ├┤1     ├┤ Rz(-1.6535) ├»\n",
              "«          └──────┘└────────┘└────┘└──────────┘└────┘└──────┘└─────────────┘»\n",
              "«                                                                           »\n",
              "«q_4 -> 56 ─────────────────────────────────────────────────────────────────»\n",
              "«                       ┌──────┐                                    ┌──────┐»\n",
              "«q_3 -> 57 ─────────────┤0     ├────────────────────────────────────┤0     ├»\n",
              "«          ┌───────────┐│  Ecr │┌────────┐┌────┐┌────────────┐┌────┐│  Ecr │»\n",
              "«q_0 -> 58 ┤ Rz(-3π/8) ├┤1     ├┤ Rz(-π) ├┤ √X ├┤ Rz(15π/16) ├┤ √X ├┤1     ├»\n",
              "«          └───────────┘└──────┘└────────┘└────┘└────────────┘└────┘└──────┘»\n",
              "«q_1 -> 59 ─────────────────────────────────────────────────────────────────»\n",
              "«                                                                           »\n",
              "«q_6 -> 60 ─────────────────────────────────────────────────────────────────»\n",
              "«                                                                           »\n",
              "«q_2 -> 71 ─────────────────────────────────────────────────────────────────»\n",
              "«                                                                           »\n",
              "«                                                                           »\n",
              "«q_4 -> 56 ─────────────────────────────────────────────────────────────────»\n",
              "«              ┌───┐    ┌─────────────┐                                     »\n",
              "«q_3 -> 57 ────┤ X ├────┤ Rz(-11π/16) ├─────────────────────────────────────»\n",
              "«          ┌───┴───┴───┐└────┬────┬───┘┌─────────┐┌──────┐┌──────────┐┌────┐»\n",
              "«q_0 -> 58 ┤ Rz(9π/16) ├─────┤ √X ├────┤ Rz(π/2) ├┤0     ├┤ Rz(-π/2) ├┤ √X ├»\n",
              "«          └───────────┘     └────┘    └─────────┘│  Ecr │├─────────┬┘├────┤»\n",
              "«q_1 -> 59 ───────────────────────────────────────┤1     ├┤ Rz(π/2) ├─┤ √X ├»\n",
              "«                                                 └──────┘└─────────┘ └────┘»\n",
              "«q_6 -> 60 ─────────────────────────────────────────────────────────────────»\n",
              "«                                                                           »\n",
              "«q_2 -> 71 ─────────────────────────────────────────────────────────────────»\n",
              "«                                                                           »\n",
              "«                                                                             »\n",
              "«q_4 -> 56 ───────────────────────────────────────────────────────────────────»\n",
              "«                                                                             »\n",
              "«q_3 -> 57 ───────────────────────────────────────────────────────────────────»\n",
              "«          ┌────────┐┌──────┐┌─────────┐ ┌────┐┌─────────┐┌──────┐   ┌───┐    »\n",
              "«q_0 -> 58 ┤ Rz(-π) ├┤0     ├┤ Rz(π/2) ├─┤ √X ├┤ Rz(π/2) ├┤0     ├───┤ X ├────»\n",
              "«          └────────┘│  Ecr │├─────────┴┐└────┘└─────────┘│  Ecr │┌──┴───┴───┐»\n",
              "«q_1 -> 59 ──────────┤1     ├┤ Rz(-π/2) ├─────────────────┤1     ├┤ Rz(-π/2) ├»\n",
              "«                    └──────┘└──────────┘                 └──────┘└──────────┘»\n",
              "«q_6 -> 60 ───────────────────────────────────────────────────────────────────»\n",
              "«                                                                             »\n",
              "«q_2 -> 71 ───────────────────────────────────────────────────────────────────»\n",
              "«                                                                             »\n",
              "«                                                                       »\n",
              "«q_4 -> 56 ─────────────────────────────────────────────────────────────»\n",
              "«                                                                       »\n",
              "«q_3 -> 57 ─────────────────────────────────────────────────────────────»\n",
              "«          ┌─────────┐┌──────┐                                  ┌──────┐»\n",
              "«q_0 -> 58 ┤ Rz(π/2) ├┤0     ├──────────────────────────────────┤0     ├»\n",
              "«          └──┬────┬─┘│      │                                  │      │»\n",
              "«q_1 -> 59 ───┤ √X ├──┤      ├──────────────────────────────────┤      ├»\n",
              "«             └────┘  │  Ecr │                                  │  Ecr │»\n",
              "«q_6 -> 60 ───────────┤      ├──────────────────────────────────┤      ├»\n",
              "«                     │      │┌────────┐┌────┐┌──────────┐┌────┐│      │»\n",
              "«q_2 -> 71 ───────────┤1     ├┤ Rz(-π) ├┤ √X ├┤ Rz(3π/4) ├┤ √X ├┤1     ├»\n",
              "«                     └──────┘└────────┘└────┘└──────────┘└────┘└──────┘»\n",
              "«                                                                            »\n",
              "«q_4 -> 56 ──────────────────────────────────────────────────────────────────»\n",
              "«                         ┌──────┐                                   ┌──────┐»\n",
              "«q_3 -> 57 ───────────────┤0     ├───────────────────────────────────┤0     ├»\n",
              "«           ┌───────────┐ │  Ecr │ ┌────────┐┌────┐┌──────────┐┌────┐│  Ecr │»\n",
              "«q_0 -> 58 ─┤ Rz(-3π/4) ├─┤1     ├─┤ Rz(-π) ├┤ √X ├┤ Rz(7π/8) ├┤ √X ├┤1     ├»\n",
              "«           └───────────┘ └──────┘ └────────┘└────┘└──────────┘└────┘└──────┘»\n",
              "«q_1 -> 59 ──────────────────────────────────────────────────────────────────»\n",
              "«                                                                            »\n",
              "«q_6 -> 60 ──────────────────────────────────────────────────────────────────»\n",
              "«          ┌─────────────┐ ┌────┐ ┌─────────┐                                »\n",
              "«q_2 -> 71 ┤ Rz(0.47544) ├─┤ √X ├─┤ Rz(π/2) ├────────────────────────────────»\n",
              "«          └─────────────┘ └────┘ └─────────┘                                »\n",
              "«                                                                             »\n",
              "«q_4 -> 56 ───────────────────────────────────────────────────────────────────»\n",
              "«           ┌──────────┐                                                      »\n",
              "«q_3 -> 57 ─┤ Rz(-π/4) ├──────────────────────────────────────────────────────»\n",
              "«          ┌┴──────────┤┌────┐┌──────────┐┌──────┐┌──────────┐┌────┐┌────────┐»\n",
              "«q_0 -> 58 ┤ Rz(-5π/8) ├┤ √X ├┤ Rz(-π/2) ├┤0     ├┤ Rz(-π/2) ├┤ √X ├┤ Rz(-π) ├»\n",
              "«          └───────────┘└────┘└──────────┘│      │└──────────┘└────┘└────────┘»\n",
              "«q_1 -> 59 ───────────────────────────────┤      ├────────────────────────────»\n",
              "«                                         │  Ecr │                            »\n",
              "«q_6 -> 60 ───────────────────────────────┤      ├────────────────────────────»\n",
              "«                                         │      │┌─────────┐ ┌────┐          »\n",
              "«q_2 -> 71 ───────────────────────────────┤1     ├┤ Rz(π/2) ├─┤ √X ├──────────»\n",
              "«                                         └──────┘└─────────┘ └────┘          »\n",
              "«                                                                     »\n",
              "«q_4 -> 56 ───────────────────────────────────────────────────────────»\n",
              "«                                                             ┌──────┐»\n",
              "«q_3 -> 57 ───────────────────────────────────────────────────┤0     ├»\n",
              "«          ┌──────┐┌─────────┐ ┌────┐┌─────────┐┌──────┐┌───┐ │  Ecr │»\n",
              "«q_0 -> 58 ┤0     ├┤ Rz(π/2) ├─┤ √X ├┤ Rz(π/2) ├┤0     ├┤ X ├─┤1     ├»\n",
              "«          │      │└─────────┘ └────┘└─────────┘│      │└───┘ └──────┘»\n",
              "«q_1 -> 59 ┤      ├─────────────────────────────┤      ├──────────────»\n",
              "«          │  Ecr │                             │  Ecr │              »\n",
              "«q_6 -> 60 ┤      ├─────────────────────────────┤      ├──────────────»\n",
              "«          │      │┌──────────┐                 │      │┌────┐        »\n",
              "«q_2 -> 71 ┤1     ├┤ Rz(-π/2) ├─────────────────┤1     ├┤ √X ├────────»\n",
              "«          └──────┘└──────────┘                 └──────┘└────┘        »\n",
              "«                                                                 ┌──────┐»\n",
              "«q_4 -> 56 ───────────────────────────────────────────────────────┤0     ├»\n",
              "«                                            ┌──────┐  ┌────────┐ │  Ecr │»\n",
              "«q_3 -> 57 ──────────────────────────────────┤0     ├──┤ Rz(-π) ├─┤1     ├»\n",
              "«          ┌────────┐┌────┐┌──────────┐┌────┐│  Ecr │┌─┴────────┴┐└──────┘»\n",
              "«q_0 -> 58 ┤ Rz(-π) ├┤ √X ├┤ Rz(3π/4) ├┤ √X ├┤1     ├┤ Rz(-3π/4) ├────────»\n",
              "«          └────────┘└────┘└──────────┘└────┘└──────┘└───────────┘        »\n",
              "«q_1 -> 59 ───────────────────────────────────────────────────────────────»\n",
              "«                                                                         »\n",
              "«q_6 -> 60 ───────────────────────────────────────────────────────────────»\n",
              "«                                                                         »\n",
              "«q_2 -> 71 ───────────────────────────────────────────────────────────────»\n",
              "«                                                                         »\n",
              "«          ┌───────────┐                                                      »\n",
              "«q_4 -> 56 ┤ Rz(-3π/4) ├──────────────────────────────────────────────────────»\n",
              "«          └──┬──────┬─┘┌──────────┐┌────┐┌────────┐┌──────┐┌─────────┐ ┌────┐»\n",
              "«q_3 -> 57 ───┤0     ├──┤ Rz(-π/2) ├┤ √X ├┤ Rz(-π) ├┤0     ├┤ Rz(π/2) ├─┤ √X ├»\n",
              "«             │  Ecr │  ├─────────┬┘├────┤└────────┘│  Ecr │├─────────┴┐└────┘»\n",
              "«q_0 -> 58 ───┤1     ├──┤ Rz(π/2) ├─┤ √X ├──────────┤1     ├┤ Rz(-π/2) ├──────»\n",
              "«             └──────┘  └─────────┘ └────┘          └──────┘└──────────┘      »\n",
              "«q_1 -> 59 ───────────────────────────────────────────────────────────────────»\n",
              "«                                                                             »\n",
              "«q_6 -> 60 ───────────────────────────────────────────────────────────────────»\n",
              "«                                                                             »\n",
              "«q_2 -> 71 ───────────────────────────────────────────────────────────────────»\n",
              "«                                                                             »\n",
              "«                                      ┌──────┐                               »\n",
              "«q_4 -> 56 ────────────────────────────┤0     ├───────────────────────────────»\n",
              "«          ┌─────────┐┌──────┐┌───┐    │  Ecr │   ┌────────┐┌────┐┌──────────┐»\n",
              "«q_3 -> 57 ┤ Rz(π/2) ├┤0     ├┤ X ├────┤1     ├───┤ Rz(-π) ├┤ √X ├┤ Rz(3π/4) ├»\n",
              "«          └─────────┘│  Ecr │├───┴┐┌──┴──────┴──┐└────────┘└────┘└──────────┘»\n",
              "«q_0 -> 58 ───────────┤1     ├┤ √X ├┤ Rz(2.4941) ├────────────────────────────»\n",
              "«                     └──────┘└────┘└────────────┘                            »\n",
              "«q_1 -> 59 ───────────────────────────────────────────────────────────────────»\n",
              "«                                                                             »\n",
              "«q_6 -> 60 ───────────────────────────────────────────────────────────────────»\n",
              "«                                                                             »\n",
              "«q_2 -> 71 ───────────────────────────────────────────────────────────────────»\n",
              "«                                                                             »\n",
              "«                ┌──────┐┌────┐ ┌────────┐                                     »\n",
              "«q_4 -> 56 ──────┤0     ├┤ √X ├─┤ Rz(-π) ├─────────────────────────────────────»\n",
              "«          ┌────┐│  Ecr │├───┬┘┌┴────────┴┐┌──────┐                            »\n",
              "«q_3 -> 57 ┤ √X ├┤1     ├┤ X ├─┤ Rz(3π/4) ├┤0     ├────────────────────────────»\n",
              "«          └────┘└──────┘└───┘ └──────────┘│  Ecr │┌────────┐┌────┐┌──────────┐»\n",
              "«q_0 -> 58 ────────────────────────────────┤1     ├┤ Rz(-π) ├┤ √X ├┤ Rz(3π/4) ├»\n",
              "«                                          └──────┘└────────┘└────┘└──────────┘»\n",
              "«q_1 -> 59 ────────────────────────────────────────────────────────────────────»\n",
              "«                                                                              »\n",
              "«q_6 -> 60 ────────────────────────────────────────────────────────────────────»\n",
              "«                                                                              »\n",
              "«q_2 -> 71 ────────────────────────────────────────────────────────────────────»\n",
              "«                                                                              »\n",
              "«                                                         ┌──────┐┌──────────┐»\n",
              "«q_4 -> 56 ───────────────────────────────────────────────┤0     ├┤ Rz(-π/2) ├»\n",
              "«                ┌──────┐ ┌───────────┐ ┌────┐┌──────────┐│  Ecr │├─────────┬┘»\n",
              "«q_3 -> 57 ──────┤0     ├─┤ Rz(-3π/4) ├─┤ √X ├┤ Rz(-π/2) ├┤1     ├┤ Rz(π/2) ├─»\n",
              "«          ┌────┐│  Ecr │┌┴───────────┴┐├────┤├──────────┤├──────┤├─────────┴┐»\n",
              "«q_0 -> 58 ┤ √X ├┤1     ├┤ Rz(-1.7087) ├┤ √X ├┤ Rz(-π/2) ├┤0     ├┤ Rz(-π/2) ├»\n",
              "«          └────┘└──────┘└─────────────┘└────┘└──────────┘│      │└──────────┘»\n",
              "«q_1 -> 59 ───────────────────────────────────────────────┤      ├────────────»\n",
              "«                                                         │  Ecr │            »\n",
              "«q_6 -> 60 ───────────────────────────────────────────────┤      ├────────────»\n",
              "«                                                         │      │┌─────────┐ »\n",
              "«q_2 -> 71 ───────────────────────────────────────────────┤1     ├┤ Rz(π/2) ├─»\n",
              "«                                                         └──────┘└─────────┘ »\n",
              "«          ┌────┐┌────────┐┌──────┐┌─────────┐ ┌────┐┌─────────┐┌──────┐»\n",
              "«q_4 -> 56 ┤ √X ├┤ Rz(-π) ├┤0     ├┤ Rz(π/2) ├─┤ √X ├┤ Rz(π/2) ├┤0     ├»\n",
              "«          ├────┤└────────┘│  Ecr │├─────────┴┐└────┘└─────────┘│  Ecr │»\n",
              "«q_3 -> 57 ┤ √X ├──────────┤1     ├┤ Rz(-π/2) ├─────────────────┤1     ├»\n",
              "«          ├────┤┌────────┐├──────┤├─────────┬┘┌────┐┌─────────┐├──────┤»\n",
              "«q_0 -> 58 ┤ √X ├┤ Rz(-π) ├┤0     ├┤ Rz(π/2) ├─┤ √X ├┤ Rz(π/2) ├┤0     ├»\n",
              "«          └────┘└────────┘│      │└─────────┘ └────┘└─────────┘│      │»\n",
              "«q_1 -> 59 ────────────────┤      ├─────────────────────────────┤      ├»\n",
              "«                          │  Ecr │                             │  Ecr │»\n",
              "«q_6 -> 60 ────────────────┤      ├─────────────────────────────┤      ├»\n",
              "«          ┌────┐          │      │┌──────────┐                 │      │»\n",
              "«q_2 -> 71 ┤ √X ├──────────┤1     ├┤ Rz(-π/2) ├─────────────────┤1     ├»\n",
              "«          └────┘          └──────┘└──────────┘                 └──────┘»\n",
              "«          ┌──────────┐     ┌────┐     ┌──────────┐                    »\n",
              "«q_4 -> 56 ┤ Rz(-π/2) ├─────┤ √X ├─────┤ Rz(-π/2) ├────────────────────»\n",
              "«          ├─────────┬┘     ├────┤    ┌┴──────────┤┌──────┐   ┌───┐    »\n",
              "«q_3 -> 57 ┤ Rz(π/2) ├──────┤ √X ├────┤ Rz(-3π/8) ├┤0     ├───┤ X ├────»\n",
              "«          ├─────────┤      ├────┤    └─┬────────┬┘│  Ecr │┌──┴───┴───┐»\n",
              "«q_0 -> 58 ┤ Rz(π/2) ├──────┤ √X ├──────┤ Rz(-π) ├─┤1     ├┤ Rz(7π/8) ├»\n",
              "«          └─────────┘      └────┘      └────────┘ └──────┘└──────────┘»\n",
              "«q_1 -> 59 ────────────────────────────────────────────────────────────»\n",
              "«                                                                      »\n",
              "«q_6 -> 60 ────────────────────────────────────────────────────────────»\n",
              "«             ┌────┐   ┌─────────────┐                                 »\n",
              "«q_2 -> 71 ───┤ √X ├───┤ Rz(-2.5316) ├─────────────────────────────────»\n",
              "«             └────┘   └─────────────┘                                 »\n",
              "«                                                                         »\n",
              "«q_4 -> 56 ───────────────────────────────────────────────────────────────»\n",
              "«          ┌──────────┐          ┌──────┐   ┌───┐   ┌────────────┐        »\n",
              "«q_3 -> 57 ┤ Rz(-π/2) ├──────────┤0     ├───┤ X ├───┤ Rz(-7π/16) ├────────»\n",
              "«          └──┬────┬──┘┌────────┐│  Ecr │┌──┴───┴──┐└───┬────┬───┘┌──────┐»\n",
              "«q_0 -> 58 ───┤ √X ├───┤ Rz(-π) ├┤1     ├┤ Rz(π/8) ├────┤ √X ├────┤0     ├»\n",
              "«             └────┘   └────────┘└──────┘└─────────┘    └────┘    │  Ecr │»\n",
              "«q_1 -> 59 ───────────────────────────────────────────────────────┤1     ├»\n",
              "«                                                                 └──────┘»\n",
              "«q_6 -> 60 ───────────────────────────────────────────────────────────────»\n",
              "«                                                                         »\n",
              "«q_2 -> 71 ───────────────────────────────────────────────────────────────»\n",
              "«                                                                         »\n",
              "«                                                                           »\n",
              "«q_4 -> 56 ─────────────────────────────────────────────────────────────────»\n",
              "«                                                                           »\n",
              "«q_3 -> 57 ─────────────────────────────────────────────────────────────────»\n",
              "«          ┌──────────┐┌────┐┌────────┐┌──────┐┌─────────┐ ┌────┐┌─────────┐»\n",
              "«q_0 -> 58 ┤ Rz(-π/2) ├┤ √X ├┤ Rz(-π) ├┤0     ├┤ Rz(π/2) ├─┤ √X ├┤ Rz(π/2) ├»\n",
              "«          ├─────────┬┘├────┤└────────┘│  Ecr │├─────────┴┐└────┘└─────────┘»\n",
              "«q_1 -> 59 ┤ Rz(π/2) ├─┤ √X ├──────────┤1     ├┤ Rz(-π/2) ├─────────────────»\n",
              "«          └─────────┘ └────┘          └──────┘└──────────┘                 »\n",
              "«q_6 -> 60 ─────────────────────────────────────────────────────────────────»\n",
              "«                                                                           »\n",
              "«q_2 -> 71 ─────────────────────────────────────────────────────────────────»\n",
              "«                                                                           »\n",
              "«                                                                     »\n",
              "«q_4 -> 56 ───────────────────────────────────────────────────────────»\n",
              "«                                               ┌──────┐    ┌───┐     »\n",
              "«q_3 -> 57 ─────────────────────────────────────┤0     ├────┤ X ├─────»\n",
              "«          ┌──────┐┌─────────┐┌────┐┌──────────┐│  Ecr │┌───┴───┴────┐»\n",
              "«q_0 -> 58 ┤0     ├┤ Rz(π/2) ├┤ √X ├┤ Rz(-π/2) ├┤1     ├┤ Rz(15π/16) ├»\n",
              "«          │  Ecr │├─────────┤├────┤├─────────┬┘├──────┤└┬─────────┬─┘»\n",
              "«q_1 -> 59 ┤1     ├┤ Rz(π/2) ├┤ √X ├┤ Rz(π/2) ├─┤0     ├─┤ Rz(π/2) ├──»\n",
              "«          └──────┘└─────────┘└────┘└─────────┘ │  Ecr │ ├─────────┴┐ »\n",
              "«q_6 -> 60 ─────────────────────────────────────┤1     ├─┤ Rz(-π/2) ├─»\n",
              "«                                               └──────┘ └──────────┘ »\n",
              "«q_2 -> 71 ───────────────────────────────────────────────────────────»\n",
              "«                                                                     »\n",
              "«                                                                        »\n",
              "«q_4 -> 56 ──────────────────────────────────────────────────────────────»\n",
              "«          ┌──────────┐             ┌──────┐┌─────────┐ ┌────┐┌─────────┐»\n",
              "«q_3 -> 57 ┤ Rz(-π/2) ├─────────────┤0     ├┤ Rz(π/2) ├─┤ √X ├┤ Rz(π/2) ├»\n",
              "«          └──┬────┬──┘  ┌────────┐ │  Ecr │├─────────┴┐├────┤└─┬──────┬┘»\n",
              "«q_0 -> 58 ───┤ √X ├─────┤ Rz(-π) ├─┤1     ├┤ Rz(π/16) ├┤ √X ├──┤0     ├─»\n",
              "«             ├────┤    ┌┴────────┤ └──────┘└──────────┘└────┘  │  Ecr │ »\n",
              "«q_1 -> 59 ───┤ √X ├────┤ Rz(π/2) ├─────────────────────────────┤1     ├─»\n",
              "«             ├────┤   ┌┴─────────┴┐                            └──────┘ »\n",
              "«q_6 -> 60 ───┤ √X ├───┤ Rz(1.492) ├─────────────────────────────────────»\n",
              "«             └────┘   └───────────┘                                     »\n",
              "«q_2 -> 71 ──────────────────────────────────────────────────────────────»\n",
              "«                                                                        »\n",
              "«            ┌──────┐  ┌──────────┐  ┌────┐  ┌────────┐  ┌──────┐  ┌─────────┐ »\n",
              "«q_4 -> 56 ──┤0     ├──┤ Rz(-π/2) ├──┤ √X ├──┤ Rz(-π) ├──┤0     ├──┤ Rz(π/2) ├─»\n",
              "«            │  Ecr │  ├─────────┬┘  ├────┤  └────────┘  │  Ecr │  ├─────────┴┐»\n",
              "«q_3 -> 57 ──┤1     ├──┤ Rz(π/2) ├───┤ √X ├──────────────┤1     ├──┤ Rz(-π/2) ├»\n",
              "«          ┌─┴──────┴─┐└──┬────┬─┘ ┌─┴────┴─┐ ┌──────┐ ┌─┴──────┴┐ └──┬────┬──┘»\n",
              "«q_0 -> 58 ┤ Rz(-π/2) ├───┤ √X ├───┤ Rz(-π) ├─┤0     ├─┤ Rz(π/2) ├────┤ √X ├───»\n",
              "«          ├─────────┬┘   ├────┤   └────────┘ │  Ecr │ ├─────────┴┐   └────┘   »\n",
              "«q_1 -> 59 ┤ Rz(π/2) ├────┤ √X ├──────────────┤1     ├─┤ Rz(-π/2) ├────────────»\n",
              "«          └─────────┘    └────┘              └──────┘ └──────────┘            »\n",
              "«q_6 -> 60 ────────────────────────────────────────────────────────────────────»\n",
              "«                                                                              »\n",
              "«q_2 -> 71 ────────────────────────────────────────────────────────────────────»\n",
              "«                                                                              »\n",
              "«             ┌────┐  ┌─────────┐  ┌──────┐    ┌────┐   ┌──────────┐           »\n",
              "«q_4 -> 56 ───┤ √X ├──┤ Rz(π/2) ├──┤0     ├────┤ √X ├───┤ Rz(-π/2) ├───────────»\n",
              "«             └────┘  └─────────┘  │  Ecr │ ┌──┴────┴──┐└──┬────┬──┘┌─────────┐»\n",
              "«q_3 -> 57 ────────────────────────┤1     ├─┤ Rz(-π/2) ├───┤ √X ├───┤ Rz(π/4) ├»\n",
              "«          ┌─────────┐  ┌──────┐   └┬────┬┘ ├─────────┬┘   └────┘   └─┬──────┬┘»\n",
              "«q_0 -> 58 ┤ Rz(π/2) ├──┤0     ├────┤ √X ├──┤ Rz(π/2) ├───────────────┤0     ├─»\n",
              "«          └─────────┘  │  Ecr │ ┌──┴────┴─┐└──┬────┬─┘  ┌────────┐   │      │ »\n",
              "«q_1 -> 59 ─────────────┤1     ├─┤ Rz(π/2) ├───┤ √X ├────┤ Rz(-π) ├───┤      ├─»\n",
              "«                       └──────┘ └─────────┘   └────┘    └────────┘   │  Ecr │ »\n",
              "«q_6 -> 60 ───────────────────────────────────────────────────────────┤      ├─»\n",
              "«                                                                     │      │ »\n",
              "«q_2 -> 71 ───────────────────────────────────────────────────────────┤1     ├─»\n",
              "«                                                                     └──────┘ »\n",
              "«                                                                    »\n",
              "«q_4 -> 56 ──────────────────────────────────────────────────────────»\n",
              "«                                                                    »\n",
              "«q_3 -> 57 ──────────────────────────────────────────────────────────»\n",
              "«                                                            ┌──────┐»\n",
              "«q_0 -> 58 ──────────────────────────────────────────────────┤0     ├»\n",
              "«           ┌──────┐                                         │      │»\n",
              "«q_1 -> 59 ─┤0     ├─────────────────────────────────────────┤      ├»\n",
              "«           │  Ecr │ ┌────────┐   ┌────┐   ┌──────────┐┌────┐│  Ecr │»\n",
              "«q_6 -> 60 ─┤1     ├─┤ Rz(-π) ├───┤ √X ├───┤ Rz(3π/4) ├┤ √X ├┤      ├»\n",
              "«          ┌┴──────┴┐└─┬────┬─┘┌──┴────┴──┐└──┬────┬──┘└────┘│      │»\n",
              "«q_2 -> 71 ┤ Rz(-π) ├──┤ √X ├──┤ Rz(7π/8) ├───┤ √X ├─────────┤1     ├»\n",
              "«          └────────┘  └────┘  └──────────┘   └────┘         └──────┘»\n",
              "«                                                                            »\n",
              "«q_4 -> 56 ──────────────────────────────────────────────────────────────────»\n",
              "«                            ┌──────┐                                        »\n",
              "«q_3 -> 57 ──────────────────┤0     ├────────────────────────────────────────»\n",
              "«           ┌──────────┐     │  Ecr │     ┌────────┐ ┌────┐┌──────────┐┌────┐»\n",
              "«q_0 -> 58 ─┤ Rz(3π/8) ├─────┤1     ├─────┤ Rz(-π) ├─┤ √X ├┤ Rz(3π/4) ├┤ √X ├»\n",
              "«           └─┬──────┬─┘     └┬───┬─┘    ┌┴────────┴┐└────┘└──────────┘└────┘»\n",
              "«q_1 -> 59 ───┤0     ├────────┤ X ├──────┤ Rz(-π/4) ├────────────────────────»\n",
              "«             │  Ecr │   ┌────┴───┴─────┐└──────────┘                        »\n",
              "«q_6 -> 60 ───┤1     ├───┤ Rz(-0.70655) ├────────────────────────────────────»\n",
              "«          ┌──┴──────┴──┐└──────────────┘                                    »\n",
              "«q_2 -> 71 ┤ Rz(2.8047) ├────────────────────────────────────────────────────»\n",
              "«          └────────────┘                                                    »\n",
              "«                                                                        »\n",
              "«q_4 -> 56 ──────────────────────────────────────────────────────────────»\n",
              "«          ┌──────┐┌─────────┐                                           »\n",
              "«q_3 -> 57 ┤0     ├┤ Rz(π/8) ├───────────────────────────────────────────»\n",
              "«          │  Ecr │├─────────┤┌────┐┌─────────┐┌──────┐┌──────────┐┌────┐»\n",
              "«q_0 -> 58 ┤1     ├┤ Rz(π/4) ├┤ √X ├┤ Rz(π/2) ├┤0     ├┤ Rz(-π/2) ├┤ √X ├»\n",
              "«          └──────┘└─────────┘└────┘└─────────┘│  Ecr │├─────────┬┘├────┤»\n",
              "«q_1 -> 59 ────────────────────────────────────┤1     ├┤ Rz(π/2) ├─┤ √X ├»\n",
              "«                                              └──────┘└─────────┘ └────┘»\n",
              "«q_6 -> 60 ──────────────────────────────────────────────────────────────»\n",
              "«                                                                        »\n",
              "«q_2 -> 71 ──────────────────────────────────────────────────────────────»\n",
              "«                                                                        »\n",
              "«                                                                            »\n",
              "«q_4 -> 56 ──────────────────────────────────────────────────────────────────»\n",
              "«                                                                            »\n",
              "«q_3 -> 57 ──────────────────────────────────────────────────────────────────»\n",
              "«          ┌────────┐┌──────┐┌─────────┐ ┌────┐┌─────────┐┌──────┐┌─────────┐»\n",
              "«q_0 -> 58 ┤ Rz(-π) ├┤0     ├┤ Rz(π/2) ├─┤ √X ├┤ Rz(π/2) ├┤0     ├┤ Rz(π/2) ├»\n",
              "«          └────────┘│  Ecr │├─────────┴┐└────┘└─────────┘│  Ecr │└──┬────┬─┘»\n",
              "«q_1 -> 59 ──────────┤1     ├┤ Rz(-π/2) ├─────────────────┤1     ├───┤ √X ├──»\n",
              "«                    └──────┘└──────────┘                 └──────┘   └────┘  »\n",
              "«q_6 -> 60 ──────────────────────────────────────────────────────────────────»\n",
              "«                                                                            »\n",
              "«q_2 -> 71 ──────────────────────────────────────────────────────────────────»\n",
              "«                                                                            »\n",
              "«                                                                             »\n",
              "«q_4 -> 56 ───────────────────────────────────────────────────────────────────»\n",
              "«                                                                             »\n",
              "«q_3 -> 57 ───────────────────────────────────────────────────────────────────»\n",
              "«                         ┌──────┐                                    ┌──────┐»\n",
              "«q_0 -> 58 ───────────────┤0     ├────────────────────────────────────┤0     ├»\n",
              "«          ┌─────────────┐│      │                                    │      │»\n",
              "«q_1 -> 59 ┤ Rz(-3.0781) ├┤      ├────────────────────────────────────┤      ├»\n",
              "«          └─────────────┘│  Ecr │                                    │  Ecr │»\n",
              "«q_6 -> 60 ───────────────┤      ├────────────────────────────────────┤      ├»\n",
              "«                         │      │┌────────┐┌────┐┌────────────┐┌────┐│      │»\n",
              "«q_2 -> 71 ───────────────┤1     ├┤ Rz(-π) ├┤ √X ├┤ Rz(15π/16) ├┤ √X ├┤1     ├»\n",
              "«                         └──────┘└────────┘└────┘└────────────┘└────┘└──────┘»\n",
              "«                                                                             »\n",
              "«q_4 -> 56 ───────────────────────────────────────────────────────────────────»\n",
              "«                         ┌──────┐                                    ┌──────┐»\n",
              "«q_3 -> 57 ───────────────┤0     ├────────────────────────────────────┤0     ├»\n",
              "«           ┌───────────┐ │  Ecr │ ┌────────┐ ┌────┐┌──────────┐┌────┐│  Ecr │»\n",
              "«q_0 -> 58 ─┤ Rz(7π/16) ├─┤1     ├─┤ Rz(-π) ├─┤ √X ├┤ Rz(7π/8) ├┤ √X ├┤1     ├»\n",
              "«           └───────────┘ └──────┘ └────────┘ └────┘└──────────┘└────┘└──────┘»\n",
              "«q_1 -> 59 ───────────────────────────────────────────────────────────────────»\n",
              "«                                                                             »\n",
              "«q_6 -> 60 ───────────────────────────────────────────────────────────────────»\n",
              "«          ┌─────────────┐ ┌────┐ ┌──────────┐                                »\n",
              "«q_2 -> 71 ┤ Rz(-1.2548) ├─┤ √X ├─┤ Rz(-π/2) ├────────────────────────────────»\n",
              "«          └─────────────┘ └────┘ └──────────┘                                »\n",
              "«                                                                           »\n",
              "«q_4 -> 56 ─────────────────────────────────────────────────────────────────»\n",
              "«           ┌──────────┐ ┌────┐ ┌──────────┐                                »\n",
              "«q_3 -> 57 ─┤ Rz(-π/2) ├─┤ √X ├─┤ Rz(-π/2) ├────────────────────────────────»\n",
              "«          ┌┴──────────┤┌┴────┴┐└──────────┘                        ┌──────┐»\n",
              "«q_0 -> 58 ┤ Rz(-5π/8) ├┤0     ├────────────────────────────────────┤0     ├»\n",
              "«          └───────────┘│  Ecr │ ┌────────┐ ┌────┐┌──────────┐┌────┐│  Ecr │»\n",
              "«q_1 -> 59 ─────────────┤1     ├─┤ Rz(-π) ├─┤ √X ├┤ Rz(3π/4) ├┤ √X ├┤1     ├»\n",
              "«                       └──────┘ └────────┘ └────┘└──────────┘└────┘└──────┘»\n",
              "«q_6 -> 60 ─────────────────────────────────────────────────────────────────»\n",
              "«                                                                           »\n",
              "«q_2 -> 71 ─────────────────────────────────────────────────────────────────»\n",
              "«                                                                           »\n",
              "«                                          \n",
              "«q_4 -> 56 ────────────────────────────────\n",
              "«                                          \n",
              "«q_3 -> 57 ────────────────────────────────\n",
              "«          ┌───────────┐ ┌────┐┌─────────┐ \n",
              "«q_0 -> 58 ┤ Rz(-3π/4) ├─┤ √X ├┤ Rz(π/2) ├─\n",
              "«          ├───────────┴┐├────┤├─────────┴┐\n",
              "«q_1 -> 59 ┤ Rz(2.2927) ├┤ √X ├┤ Rz(-π/2) ├\n",
              "«          └────────────┘└────┘└──────────┘\n",
              "«q_6 -> 60 ────────────────────────────────\n",
              "«                                          \n",
              "«q_2 -> 71 ────────────────────────────────\n",
              "«                                          </pre>"
            ]
          },
          "metadata": {},
          "execution_count": 108
        }
      ]
    },
    {
      "cell_type": "code",
      "source": [
        "isa_circuit.depth()\n"
      ],
      "metadata": {
        "colab": {
          "base_uri": "https://localhost:8080/"
        },
        "id": "sypEKf_6pARW",
        "outputId": "ac850efe-879d-4da7-930b-aba8c906e151"
      },
      "execution_count": 100,
      "outputs": [
        {
          "output_type": "execute_result",
          "data": {
            "text/plain": [
              "199"
            ]
          },
          "metadata": {},
          "execution_count": 100
        }
      ]
    },
    {
      "cell_type": "code",
      "source": [
        "pip install qiskit-aer"
      ],
      "metadata": {
        "colab": {
          "base_uri": "https://localhost:8080/"
        },
        "id": "tBIUI1FIzdEL",
        "outputId": "2538c7f7-b78c-4fcb-d8c9-a6411a5ecf8d"
      },
      "execution_count": 84,
      "outputs": [
        {
          "output_type": "stream",
          "name": "stdout",
          "text": [
            "Collecting qiskit-aer\n",
            "  Downloading qiskit_aer-0.15.1-cp310-cp310-manylinux_2_17_x86_64.manylinux2014_x86_64.whl.metadata (8.0 kB)\n",
            "Requirement already satisfied: qiskit>=1.1.0 in /usr/local/lib/python3.10/dist-packages (from qiskit-aer) (1.2.4)\n",
            "Requirement already satisfied: numpy>=1.16.3 in /usr/local/lib/python3.10/dist-packages (from qiskit-aer) (1.26.4)\n",
            "Requirement already satisfied: scipy>=1.0 in /usr/local/lib/python3.10/dist-packages (from qiskit-aer) (1.13.1)\n",
            "Requirement already satisfied: psutil>=5 in /usr/local/lib/python3.10/dist-packages (from qiskit-aer) (5.9.5)\n",
            "Requirement already satisfied: rustworkx>=0.15.0 in /usr/local/lib/python3.10/dist-packages (from qiskit>=1.1.0->qiskit-aer) (0.15.1)\n",
            "Requirement already satisfied: sympy>=1.3 in /usr/local/lib/python3.10/dist-packages (from qiskit>=1.1.0->qiskit-aer) (1.13.1)\n",
            "Requirement already satisfied: dill>=0.3 in /usr/local/lib/python3.10/dist-packages (from qiskit>=1.1.0->qiskit-aer) (0.3.9)\n",
            "Requirement already satisfied: python-dateutil>=2.8.0 in /usr/local/lib/python3.10/dist-packages (from qiskit>=1.1.0->qiskit-aer) (2.8.2)\n",
            "Requirement already satisfied: stevedore>=3.0.0 in /usr/local/lib/python3.10/dist-packages (from qiskit>=1.1.0->qiskit-aer) (5.3.0)\n",
            "Requirement already satisfied: typing-extensions in /usr/local/lib/python3.10/dist-packages (from qiskit>=1.1.0->qiskit-aer) (4.12.2)\n",
            "Requirement already satisfied: symengine<0.14,>=0.11 in /usr/local/lib/python3.10/dist-packages (from qiskit>=1.1.0->qiskit-aer) (0.13.0)\n",
            "Requirement already satisfied: six>=1.5 in /usr/local/lib/python3.10/dist-packages (from python-dateutil>=2.8.0->qiskit>=1.1.0->qiskit-aer) (1.16.0)\n",
            "Requirement already satisfied: pbr>=2.0.0 in /usr/local/lib/python3.10/dist-packages (from stevedore>=3.0.0->qiskit>=1.1.0->qiskit-aer) (6.1.0)\n",
            "Requirement already satisfied: mpmath<1.4,>=1.1.0 in /usr/local/lib/python3.10/dist-packages (from sympy>=1.3->qiskit>=1.1.0->qiskit-aer) (1.3.0)\n",
            "Downloading qiskit_aer-0.15.1-cp310-cp310-manylinux_2_17_x86_64.manylinux2014_x86_64.whl (12.3 MB)\n",
            "\u001b[2K   \u001b[90m━━━━━━━━━━━━━━━━━━━━━━━━━━━━━━━━━━━━━━━━\u001b[0m \u001b[32m12.3/12.3 MB\u001b[0m \u001b[31m81.1 MB/s\u001b[0m eta \u001b[36m0:00:00\u001b[0m\n",
            "\u001b[?25hInstalling collected packages: qiskit-aer\n",
            "Successfully installed qiskit-aer-0.15.1\n"
          ]
        }
      ]
    },
    {
      "cell_type": "code",
      "source": [
        "from qiskit.providers.basic_provider import BasicSimulator"
      ],
      "metadata": {
        "id": "7JGHXSPczoKk"
      },
      "execution_count": 94,
      "outputs": []
    },
    {
      "cell_type": "code",
      "source": [
        "# Construct the Estimator instance.\n",
        "from qiskit_ibm_runtime import EstimatorV2 as Estimator\n",
        "\n",
        "estimator = Estimator(mode=backend)\n",
        "estimator.options.resilience_level = 1\n",
        "estimator.options.default_shots = 1000\n",
        "\n",
        "mapped_observables = [\n",
        "    observable.apply_layout(isa_circuit.layout) for observable in observables\n",
        "]\n",
        "\n",
        "# One pub, with one circuit to run against five different observables.\n",
        "job = estimator.run([(isa_circuit, mapped_observables)])\n",
        "\n",
        "# Use the job ID to retrieve your job data later\n",
        "print(f\">>> Job ID: {job.job_id()}\")"
      ],
      "metadata": {
        "colab": {
          "base_uri": "https://localhost:8080/"
        },
        "id": "IVuLAPCyoWAF",
        "outputId": "e8c9c13d-6579-4446-8db1-837d36f6da40"
      },
      "execution_count": 109,
      "outputs": [
        {
          "output_type": "stream",
          "name": "stdout",
          "text": [
            ">>> Job ID: cwfv8hj543p000863h80\n"
          ]
        }
      ]
    },
    {
      "cell_type": "code",
      "source": [
        "# This is the result of the entire submission.  You submitted one Pub,\n",
        "# so this contains one inner result (and some metadata of its own).\n",
        "job_result = job.result()\n",
        "\n",
        "# This is the result from our single pub, which had six observables,\n",
        "# so contains information on all six.\n",
        "pub_result = job.result()[0]"
      ],
      "metadata": {
        "id": "lU69r8Jj1fzv"
      },
      "execution_count": 110,
      "outputs": []
    },
    {
      "cell_type": "code",
      "source": [
        "\n",
        "# Use the following code instead if you want to run on a simulator:\n",
        "\n",
        "from qiskit_ibm_runtime.fake_provider import FakeAlmadenV2\n",
        "backend = FakeAlmadenV2()\n",
        "estimator = Estimator(backend)\n",
        "\n",
        "# Convert to an ISA circuit and layout-mapped observables.\n",
        "\n",
        "pm = generate_preset_pass_manager(backend=backend, optimization_level=1)\n",
        "isa_circuit = pm.run(qc)\n",
        "mapped_observables = [\n",
        "    observable.apply_layout(isa_circuit.layout) for observable in [SparsePauliOp(['IZ'],\n",
        "               coeffs=[1.+0.j])]\n",
        "]\n",
        "\n",
        "job = estimator.run([(isa_circuit, mapped_observables)])\n",
        "result = job.result()\n",
        "\n",
        "# This is the result of the entire submission.  You submitted one Pub,\n",
        "# so this contains one inner result (and some metadata of its own).\n",
        "\n",
        "job_result = job.result()\n",
        "\n",
        "# This is the result from our single pub, which had five observables,\n",
        "# so contains information on all five.\n",
        "\n",
        "pub_result = job.result()[0]"
      ],
      "metadata": {
        "colab": {
          "base_uri": "https://localhost:8080/"
        },
        "id": "67qS2BmKuCtm",
        "outputId": "a45dfe14-42d6-4236-cc6f-db96b7778d78"
      },
      "execution_count": 106,
      "outputs": [
        {
          "output_type": "stream",
          "name": "stderr",
          "text": [
            "/usr/local/lib/python3.10/dist-packages/qiskit_ibm_runtime/fake_provider/fake_backend.py:467: RuntimeWarning: Aer not found, using qiskit.BasicSimulator and no noise.\n",
            "  warnings.warn(\n"
          ]
        }
      ]
    },
    {
      "cell_type": "code",
      "source": [
        "observables"
      ],
      "metadata": {
        "colab": {
          "base_uri": "https://localhost:8080/"
        },
        "id": "uTiqND3a1q0K",
        "outputId": "9f5fb55b-3211-452c-9fa6-9ebd2f90d4a8"
      },
      "execution_count": 105,
      "outputs": [
        {
          "output_type": "execute_result",
          "data": {
            "text/plain": [
              "[SparsePauliOp(['IZIIIIII'],\n",
              "               coeffs=[1.+0.j])]"
            ]
          },
          "metadata": {},
          "execution_count": 105
        }
      ]
    },
    {
      "cell_type": "code",
      "source": [
        "import numpy as np\n",
        "from qiskit import QuantumCircuit, Aer, transpile, assemble, execute\n",
        "from qiskit.circuit.library import XGate, YGate, ZGate\n",
        "\n",
        "# Quantum Fourier Transform and Inverse QFT Functions\n",
        "def qft(circuit, n):\n",
        "    for j in range(n):\n",
        "        circuit.h(j)\n",
        "        for k in range(j + 1, n):\n",
        "            circuit.cp(np.pi / 2 ** (k - j), k, j)\n",
        "    for i in range(n // 2):\n",
        "        circuit.swap(i, n - i - 1)\n",
        "\n",
        "def inverse_qft(circuit, n):\n",
        "    for i in range(n // 2):\n",
        "        circuit.swap(i, n - i - 1)\n",
        "    for j in range(n - 1, -1, -1):\n",
        "        for k in range(j - 1, -1, -1):\n",
        "            circuit.cp(-np.pi / 2 ** (j - k), j, k)\n",
        "        circuit.h(j)\n",
        "\n",
        "# Draper Quantum Addition Circuit\n",
        "def quantum_sum(a, b):\n",
        "    n = max(a.bit_length(), b.bit_length()) + 1\n",
        "    circuit = QuantumCircuit(2 * n)\n",
        "    for i in range(n):\n",
        "        if (a >> i) & 1:\n",
        "            circuit.x(i)\n",
        "    for i in range(n):\n",
        "        if (b >> i) & 1:\n",
        "            circuit.x(i + n)\n",
        "    qft(circuit, n)\n",
        "    for i in range(n):\n",
        "        for j in range(i + 1):\n",
        "            if (b >> j) & 1:\n",
        "                circuit.cp(np.pi / 2 ** (i - j), j + n, i)\n",
        "    inverse_qft(circuit, n)\n",
        "    circuit.measure_all()\n",
        "    return circuit\n",
        "\n",
        "# Add Noise to Circuit\n",
        "def add_noise(circuit, p1, p2):\n",
        "    noisy_circuit = QuantumCircuit(circuit.num_qubits)\n",
        "    get_random_pauli_gate = lambda: np.random.choice([XGate(), YGate(), ZGate()])\n",
        "    for instruction in circuit.data:\n",
        "        gate = instruction.operation\n",
        "        qubits = [circuit.find_bit(qubit).index for qubit in instruction.qubits]\n",
        "        noisy_circuit.append(gate, qubits)\n",
        "        if gate.num_qubits == 1 and np.random.rand() < p1:\n",
        "            noisy_circuit.append(get_random_pauli_gate(), [qubits[0]])\n",
        "        elif gate.num_qubits == 2 and np.random.rand() < p2:\n",
        "            for qubit in qubits:\n",
        "                noisy_circuit.append(get_random_pauli_gate(), [qubit])\n",
        "    return noisy_circuit\n",
        "\n",
        "# Transpile, Add Noise, and Simulate with Different Noise Levels\n",
        "def simulate_quantum_sum_with_noise(a, b, p1, p2):\n",
        "    qc = quantum_sum(a, b)\n",
        "    noisy_qc = add_noise(qc, p1, p2)\n",
        "    simulator = Aer.get_backend('aer_simulator')\n",
        "    transpiled_circuit = transpile(noisy_qc, simulator)\n",
        "    qobj = assemble(transpiled_circuit)\n",
        "    result = simulator.run(qobj).result()\n",
        "    counts = result.get_counts()\n",
        "    return counts\n",
        "\n",
        "# Experiment with Varying Noise Levels\n",
        "a, b = 3, 5\n",
        "for p1, p2 in [(0.05, 0.1), (0.1, 0.2), (0.15, 0.3)]:\n",
        "    print(f\"Noise Levels - One-qubit: {p1}, Two-qubit: {p2}\")\n",
        "    result_counts = simulate_quantum_sum_with_noise(a, b, p1, p2)\n",
        "    print(\"Result Counts:\", result_counts)\n",
        "    print(\"\\n\")\n"
      ],
      "metadata": {
        "id": "g1-LWhG4lq_B"
      },
      "execution_count": null,
      "outputs": []
    }
  ]
}